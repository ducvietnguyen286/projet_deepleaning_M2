{
 "cells": [
  {
   "cell_type": "markdown",
   "id": "9bf97199",
   "metadata": {
    "id": "9bf97199"
   },
   "source": [
    "# Traitement"
   ]
  },
  {
   "cell_type": "raw",
   "id": "3a3dcb3d",
   "metadata": {
    "id": "3a3dcb3d"
   },
   "source": [
    "Ce fichier est le traitement des données qui ont auparavant été nettoyées et mises en forme pour rendre l'étude de celles-ci plus optimales et agréables."
   ]
  },
  {
   "cell_type": "code",
   "execution_count": 4,
   "id": "1b29a8d1",
   "metadata": {
    "id": "1b29a8d1"
   },
   "outputs": [],
   "source": [
    "import pandas as pd\n",
    "import numpy as np\n",
    "import re\n",
    "import nltk\n",
    "import keras\n",
    "#nltk.download('punkt')\n",
    "from nltk.tokenize import word_tokenize\n",
    "from nltk.corpus import stopwords\n",
    "#nltk.download('stopwords')\n",
    "#nltk.download('wordnet')\n",
    "from nltk.stem import WordNetLemmatizer \n",
    "lemmatizer = WordNetLemmatizer() \n",
    "from tqdm import tqdm\n",
    "from sklearn.model_selection import train_test_split\n",
    "from sklearn.feature_extraction.text import CountVectorizer\n",
    "from sklearn.feature_extraction.text import TfidfVectorizer\n",
    "from sklearn import svm\n",
    "from sklearn.metrics import accuracy_score\n",
    "from keras.preprocessing import sequence\n",
    "from keras.models import Sequential\n",
    "from keras.layers import Dense, LSTM\n",
    "from keras.layers.embeddings import Embedding\n",
    "from tensorflow.keras.optimizers import Adam\n",
    "from tensorflow.keras.losses import BinaryCrossentropy\n",
    "from keras.preprocessing.text import Tokenizer\n",
    "from keras.preprocessing.sequence import pad_sequences\n",
    "\n",
    "import tensorflow as tf\n",
    "\n",
    "\n",
    "from keras.models import Sequential\n",
    "from keras.layers import Input, CuDNNLSTM, Dense\n",
    "from keras.layers.embeddings import Embedding\n",
    "from keras.models import Sequential\n",
    "from keras.layers import Input, CuDNNLSTM, Dense\n",
    "from keras.layers.embeddings import Embedding\n",
    "import keras.backend as K\n",
    "\n",
    "from keras.callbacks import EarlyStopping\n",
    "\n",
    "from keras.models import Sequential\n",
    "from keras.layers import Input, CuDNNLSTM, Dense, Bidirectional\n",
    "from keras.layers.embeddings import Embedding\n",
    "import keras.backend as K\n",
    "from sklearn.preprocessing import MinMaxScaler\n",
    "\n",
    "from tensorflow import keras\n",
    "from tensorflow.keras import layers"
   ]
  },
  {
   "cell_type": "markdown",
   "id": "83de95d9",
   "metadata": {
    "id": "83de95d9"
   },
   "source": [
    "## Initialisation"
   ]
  },
  {
   "cell_type": "raw",
   "id": "e0d3e230",
   "metadata": {
    "id": "e0d3e230"
   },
   "source": [
    "Lors du prétraitement (cf \"Pretraitement.ipynb\"), nous avons créé un csv avec les données modifiées. Non pas dans leur valeur/contenu mais dans leur forme pour travailler plus optimalement."
   ]
  },
  {
   "cell_type": "code",
   "execution_count": 5,
   "id": "d3357dbd",
   "metadata": {
    "id": "d3357dbd"
   },
   "outputs": [],
   "source": [
    "df = pd.read_csv(\"opinion_fact_news_pretraiter.csv\")\n",
    "df = df.drop(columns=[\"Unnamed: 0\"])"
   ]
  },
  {
   "cell_type": "code",
   "execution_count": 6,
   "id": "4a47c77c",
   "metadata": {
    "colab": {
     "base_uri": "https://localhost:8080/",
     "height": 204
    },
    "id": "4a47c77c",
    "outputId": "b4c19462-2b69-4277-891e-b4b99fdbb0eb"
   },
   "outputs": [
    {
     "data": {
      "text/html": [
       "<div>\n",
       "<style scoped>\n",
       "    .dataframe tbody tr th:only-of-type {\n",
       "        vertical-align: middle;\n",
       "    }\n",
       "\n",
       "    .dataframe tbody tr th {\n",
       "        vertical-align: top;\n",
       "    }\n",
       "\n",
       "    .dataframe thead th {\n",
       "        text-align: right;\n",
       "    }\n",
       "</style>\n",
       "<table border=\"1\" class=\"dataframe\">\n",
       "  <thead>\n",
       "    <tr style=\"text-align: right;\">\n",
       "      <th></th>\n",
       "      <th>title</th>\n",
       "      <th>body</th>\n",
       "      <th>label</th>\n",
       "    </tr>\n",
       "  </thead>\n",
       "  <tbody>\n",
       "    <tr>\n",
       "      <th>0</th>\n",
       "      <td>bernie sander really happening</td>\n",
       "      <td>watching sander surge front pack race take pre...</td>\n",
       "      <td>opinion</td>\n",
       "    </tr>\n",
       "    <tr>\n",
       "      <th>1</th>\n",
       "      <td>london terror attack would much worse assailan...</td>\n",
       "      <td>two people stabbed sunday attack south london ...</td>\n",
       "      <td>opinion</td>\n",
       "    </tr>\n",
       "    <tr>\n",
       "      <th>2</th>\n",
       "      <td>super bowl pose question obscene sex sexism</td>\n",
       "      <td>one debate overshadowed rest whether shakira l...</td>\n",
       "      <td>opinion</td>\n",
       "    </tr>\n",
       "    <tr>\n",
       "      <th>3</th>\n",
       "      <td>health care trump malicious incompetent yes</td>\n",
       "      <td>democrat debate best path universal health cov...</td>\n",
       "      <td>opinion</td>\n",
       "    </tr>\n",
       "    <tr>\n",
       "      <th>4</th>\n",
       "      <td>ever happened head pike story trump republican</td>\n",
       "      <td>adam schiff made reference reporting said conf...</td>\n",
       "      <td>opinion</td>\n",
       "    </tr>\n",
       "  </tbody>\n",
       "</table>\n",
       "</div>"
      ],
      "text/plain": [
       "                                               title  \\\n",
       "0                     bernie sander really happening   \n",
       "1  london terror attack would much worse assailan...   \n",
       "2        super bowl pose question obscene sex sexism   \n",
       "3        health care trump malicious incompetent yes   \n",
       "4     ever happened head pike story trump republican   \n",
       "\n",
       "                                                body    label  \n",
       "0  watching sander surge front pack race take pre...  opinion  \n",
       "1  two people stabbed sunday attack south london ...  opinion  \n",
       "2  one debate overshadowed rest whether shakira l...  opinion  \n",
       "3  democrat debate best path universal health cov...  opinion  \n",
       "4  adam schiff made reference reporting said conf...  opinion  "
      ]
     },
     "execution_count": 6,
     "metadata": {},
     "output_type": "execute_result"
    }
   ],
   "source": [
    "df.head()"
   ]
  },
  {
   "cell_type": "code",
   "execution_count": 7,
   "id": "092cbb55",
   "metadata": {
    "colab": {
     "base_uri": "https://localhost:8080/",
     "height": 172
    },
    "id": "092cbb55",
    "outputId": "14a83d60-5238-4c26-b002-8335ea81d740"
   },
   "outputs": [
    {
     "data": {
      "text/html": [
       "<div>\n",
       "<style scoped>\n",
       "    .dataframe tbody tr th:only-of-type {\n",
       "        vertical-align: middle;\n",
       "    }\n",
       "\n",
       "    .dataframe tbody tr th {\n",
       "        vertical-align: top;\n",
       "    }\n",
       "\n",
       "    .dataframe thead th {\n",
       "        text-align: right;\n",
       "    }\n",
       "</style>\n",
       "<table border=\"1\" class=\"dataframe\">\n",
       "  <thead>\n",
       "    <tr style=\"text-align: right;\">\n",
       "      <th></th>\n",
       "      <th>title</th>\n",
       "      <th>body</th>\n",
       "      <th>label</th>\n",
       "    </tr>\n",
       "  </thead>\n",
       "  <tbody>\n",
       "    <tr>\n",
       "      <th>count</th>\n",
       "      <td>10000</td>\n",
       "      <td>10000</td>\n",
       "      <td>10000</td>\n",
       "    </tr>\n",
       "    <tr>\n",
       "      <th>unique</th>\n",
       "      <td>8005</td>\n",
       "      <td>9856</td>\n",
       "      <td>2</td>\n",
       "    </tr>\n",
       "    <tr>\n",
       "      <th>top</th>\n",
       "      <td>factbox latest coronavirus spreading china beyond</td>\n",
       "      <td>need know understand moment mean us-iran relat...</td>\n",
       "      <td>opinion</td>\n",
       "    </tr>\n",
       "    <tr>\n",
       "      <th>freq</th>\n",
       "      <td>16</td>\n",
       "      <td>3</td>\n",
       "      <td>5000</td>\n",
       "    </tr>\n",
       "  </tbody>\n",
       "</table>\n",
       "</div>"
      ],
      "text/plain": [
       "                                                    title  \\\n",
       "count                                               10000   \n",
       "unique                                               8005   \n",
       "top     factbox latest coronavirus spreading china beyond   \n",
       "freq                                                   16   \n",
       "\n",
       "                                                     body    label  \n",
       "count                                               10000    10000  \n",
       "unique                                               9856        2  \n",
       "top     need know understand moment mean us-iran relat...  opinion  \n",
       "freq                                                    3     5000  "
      ]
     },
     "execution_count": 7,
     "metadata": {},
     "output_type": "execute_result"
    }
   ],
   "source": [
    "df.describe()"
   ]
  },
  {
   "cell_type": "code",
   "execution_count": 33,
   "id": "911386a3",
   "metadata": {
    "colab": {
     "base_uri": "https://localhost:8080/"
    },
    "id": "911386a3",
    "outputId": "ee1b3616-f539-4bd5-f9f1-9c3a1010e976"
   },
   "outputs": [
    {
     "name": "stdout",
     "output_type": "stream",
     "text": [
      "<class 'pandas.core.frame.DataFrame'>\n",
      "RangeIndex: 10000 entries, 0 to 9999\n",
      "Data columns (total 3 columns):\n",
      " #   Column  Non-Null Count  Dtype \n",
      "---  ------  --------------  ----- \n",
      " 0   title   10000 non-null  object\n",
      " 1   body    10000 non-null  object\n",
      " 2   label   10000 non-null  object\n",
      "dtypes: object(3)\n",
      "memory usage: 234.5+ KB\n"
     ]
    }
   ],
   "source": [
    "df.info(verbose=True)"
   ]
  },
  {
   "cell_type": "code",
   "execution_count": 6,
   "id": "1b850a16",
   "metadata": {
    "id": "1b850a16",
    "outputId": "251be013-0781-4fce-8a84-3d1b6724e5d5"
   },
   "outputs": [
    {
     "data": {
      "text/plain": [
       "opinion    5000\n",
       "fact       5000\n",
       "Name: label, dtype: int64"
      ]
     },
     "execution_count": 6,
     "metadata": {},
     "output_type": "execute_result"
    }
   ],
   "source": [
    "df['label'].value_counts()"
   ]
  },
  {
   "cell_type": "raw",
   "id": "a5711b67",
   "metadata": {
    "id": "a5711b67"
   },
   "source": [
    "Ces petites cellules nous permemettent de s'assurer que le prétraitement n'a pas modifié la forme du dataset : nous avons toujours 10 000 lignes, moitié facts et moitié opinions et les mêmes colonnes."
   ]
  },
  {
   "cell_type": "markdown",
   "id": "e4e88a1c",
   "metadata": {
    "id": "e4e88a1c"
   },
   "source": [
    "## Début du traitement"
   ]
  },
  {
   "cell_type": "markdown",
   "id": "52185555",
   "metadata": {
    "id": "52185555"
   },
   "source": [
    "### Changement des valeurs dans 'label'"
   ]
  },
  {
   "cell_type": "raw",
   "id": "2e4f3c4c",
   "metadata": {
    "id": "2e4f3c4c"
   },
   "source": [
    "On décide de changer les valeurs dans la colonne 'label', contenant soit 'opinion' soit 'fact'.\n",
    "On remplace le premier par 0 et le second par 1, cela nous permettra de classifier nos données."
   ]
  },
  {
   "cell_type": "code",
   "execution_count": 7,
   "id": "2c737b6b",
   "metadata": {
    "colab": {
     "base_uri": "https://localhost:8080/",
     "height": 111
    },
    "id": "2c737b6b",
    "outputId": "69a340f6-757f-4c4a-965f-c59078ef526d"
   },
   "outputs": [
    {
     "data": {
      "text/html": [
       "<div>\n",
       "<style scoped>\n",
       "    .dataframe tbody tr th:only-of-type {\n",
       "        vertical-align: middle;\n",
       "    }\n",
       "\n",
       "    .dataframe tbody tr th {\n",
       "        vertical-align: top;\n",
       "    }\n",
       "\n",
       "    .dataframe thead th {\n",
       "        text-align: right;\n",
       "    }\n",
       "</style>\n",
       "<table border=\"1\" class=\"dataframe\">\n",
       "  <thead>\n",
       "    <tr style=\"text-align: right;\">\n",
       "      <th></th>\n",
       "      <th>title</th>\n",
       "      <th>body</th>\n",
       "      <th>label</th>\n",
       "    </tr>\n",
       "  </thead>\n",
       "  <tbody>\n",
       "    <tr>\n",
       "      <th>0</th>\n",
       "      <td>bernie sander really happening</td>\n",
       "      <td>watching sander surge front pack race take pre...</td>\n",
       "      <td>0</td>\n",
       "    </tr>\n",
       "    <tr>\n",
       "      <th>1</th>\n",
       "      <td>london terror attack would much worse assailan...</td>\n",
       "      <td>two people stabbed sunday attack south london ...</td>\n",
       "      <td>0</td>\n",
       "    </tr>\n",
       "  </tbody>\n",
       "</table>\n",
       "</div>"
      ],
      "text/plain": [
       "                                               title  \\\n",
       "0                     bernie sander really happening   \n",
       "1  london terror attack would much worse assailan...   \n",
       "\n",
       "                                                body label  \n",
       "0  watching sander surge front pack race take pre...     0  \n",
       "1  two people stabbed sunday attack south london ...     0  "
      ]
     },
     "execution_count": 7,
     "metadata": {},
     "output_type": "execute_result"
    }
   ],
   "source": [
    "df.loc[df.label == \"opinion\",\"label\"] = 0\n",
    "df.loc[df.label == \"fact\",\"label\"] = 1\n",
    "df.head(2)"
   ]
  },
  {
   "cell_type": "code",
   "execution_count": 8,
   "id": "2a830146",
   "metadata": {
    "colab": {
     "base_uri": "https://localhost:8080/",
     "height": 111
    },
    "id": "2a830146",
    "outputId": "8cbae6ed-b36d-42d6-fa4a-bd5fee3fbd7b"
   },
   "outputs": [
    {
     "data": {
      "text/html": [
       "<div>\n",
       "<style scoped>\n",
       "    .dataframe tbody tr th:only-of-type {\n",
       "        vertical-align: middle;\n",
       "    }\n",
       "\n",
       "    .dataframe tbody tr th {\n",
       "        vertical-align: top;\n",
       "    }\n",
       "\n",
       "    .dataframe thead th {\n",
       "        text-align: right;\n",
       "    }\n",
       "</style>\n",
       "<table border=\"1\" class=\"dataframe\">\n",
       "  <thead>\n",
       "    <tr style=\"text-align: right;\">\n",
       "      <th></th>\n",
       "      <th>title</th>\n",
       "      <th>body</th>\n",
       "      <th>label</th>\n",
       "    </tr>\n",
       "  </thead>\n",
       "  <tbody>\n",
       "    <tr>\n",
       "      <th>9998</th>\n",
       "      <td>novartis predicts growth cosentyx zolgensma ad...</td>\n",
       "      <td>file photo company logo seen new cell gene the...</td>\n",
       "      <td>1</td>\n",
       "    </tr>\n",
       "    <tr>\n",
       "      <th>9999</th>\n",
       "      <td>russian order watchdog draw plan prevent virus...</td>\n",
       "      <td>file photo russian prime minister mikhail mish...</td>\n",
       "      <td>1</td>\n",
       "    </tr>\n",
       "  </tbody>\n",
       "</table>\n",
       "</div>"
      ],
      "text/plain": [
       "                                                  title  \\\n",
       "9998  novartis predicts growth cosentyx zolgensma ad...   \n",
       "9999  russian order watchdog draw plan prevent virus...   \n",
       "\n",
       "                                                   body label  \n",
       "9998  file photo company logo seen new cell gene the...     1  \n",
       "9999  file photo russian prime minister mikhail mish...     1  "
      ]
     },
     "execution_count": 8,
     "metadata": {},
     "output_type": "execute_result"
    }
   ],
   "source": [
    "df.tail(2)"
   ]
  },
  {
   "cell_type": "markdown",
   "id": "4ce063cc",
   "metadata": {
    "id": "4ce063cc"
   },
   "source": [
    "### Séparation des données en 3 sets (train, test, dev)"
   ]
  },
  {
   "cell_type": "raw",
   "id": "aabe8838",
   "metadata": {
    "id": "aabe8838"
   },
   "source": [
    "On va split nos données comme en TP, donc 80% pour le train, 10% pour le test et 10% également pour le dev.\n",
    "Pour cela, on sépare les données qui vont nous servir à prédire ('titre' et 'body') de celles que l'on veut prédire ('label').\n",
    "Y prendra donc les données à prédire et X celles nous permettant de le faire."
   ]
  },
  {
   "cell_type": "code",
   "execution_count": 9,
   "id": "981271e1",
   "metadata": {
    "id": "981271e1"
   },
   "outputs": [],
   "source": [
    "features = df.columns[:2]\n",
    "X = df[features]\n",
    "Y = df['label']\n",
    "Y = Y.astype('int')"
   ]
  },
  {
   "cell_type": "code",
   "execution_count": 10,
   "id": "f58c4bd9",
   "metadata": {
    "id": "f58c4bd9"
   },
   "outputs": [],
   "source": [
    "X_train, X_test, Y_train, Y_test = train_test_split(X, Y, test_size=0.2, stratify= Y)"
   ]
  },
  {
   "cell_type": "code",
   "execution_count": 11,
   "id": "4ece6c72",
   "metadata": {
    "colab": {
     "base_uri": "https://localhost:8080/"
    },
    "id": "4ece6c72",
    "outputId": "17cefd8c-0eb7-4d74-e53a-b071b51f8359"
   },
   "outputs": [
    {
     "name": "stdout",
     "output_type": "stream",
     "text": [
      "Taille de notre set de train :\n",
      "X : 8000 // Y : 8000\n",
      "\n",
      "Taille de notre set de test :\n",
      "X : 2000 // Y : 2000\n"
     ]
    }
   ],
   "source": [
    "print(\"Taille de notre set de train :\")\n",
    "print(\"X :\",len(X_train),\"// Y :\",len(Y_train))\n",
    "print(\"\\nTaille de notre set de test :\")\n",
    "print(\"X :\",len(X_test),\"// Y :\",len(Y_test))"
   ]
  },
  {
   "cell_type": "code",
   "execution_count": 12,
   "id": "01f4645c",
   "metadata": {
    "id": "01f4645c"
   },
   "outputs": [],
   "source": [
    "X_temp = X_test\n",
    "Y_temp = Y_test\n",
    "X_test, X_dev, Y_test, Y_dev = train_test_split(X_temp, Y_temp, test_size=0.5)"
   ]
  },
  {
   "cell_type": "code",
   "execution_count": 13,
   "id": "440cc83b",
   "metadata": {
    "colab": {
     "base_uri": "https://localhost:8080/"
    },
    "id": "440cc83b",
    "outputId": "9434dc52-d1dd-486e-874c-f13627a1dfa1"
   },
   "outputs": [
    {
     "name": "stdout",
     "output_type": "stream",
     "text": [
      "Taille de notre set de test :\n",
      "X : 1000 // Y : 1000\n",
      "\n",
      "Taille de notre set de dev :\n",
      "X : 1000 // Y : 1000\n"
     ]
    }
   ],
   "source": [
    "print(\"Taille de notre set de test :\")\n",
    "print(\"X :\",len(X_test),\"// Y :\",len(Y_test))\n",
    "print(\"\\nTaille de notre set de dev :\")\n",
    "print(\"X :\",len(X_dev),\"// Y :\",len(Y_dev))"
   ]
  },
  {
   "cell_type": "markdown",
   "id": "16c8c64a",
   "metadata": {
    "id": "16c8c64a"
   },
   "source": [
    "### Mise en vecteurs des données"
   ]
  },
  {
   "cell_type": "markdown",
   "id": "hybrid-grass",
   "metadata": {
    "id": "hybrid-grass"
   },
   "source": [
    "La prochaine chose que nous devons faire après le prétraitement des données est de convertir les données en un langage compréhensible par la machine, c'est-à-dire des nombres. Pour cela, nous devons mapper chaque mot des données à une valeur numérique. Nous pouvons le faire de plusieurs manières."
   ]
  },
  {
   "cell_type": "markdown",
   "id": "cultural-wagner",
   "metadata": {
    "id": "cultural-wagner"
   },
   "source": [
    "#### Bag of Words (BOW ) embedding"
   ]
  },
  {
   "cell_type": "code",
   "execution_count": 14,
   "id": "7bf226b0",
   "metadata": {
    "colab": {
     "base_uri": "https://localhost:8080/"
    },
    "id": "7bf226b0",
    "outputId": "f6980913-7c63-4f4a-ec20-6b8569c7687d"
   },
   "outputs": [
    {
     "name": "stdout",
     "output_type": "stream",
     "text": [
      "Données de train en vecteur : (8000, 2000)\n"
     ]
    }
   ],
   "source": [
    "import scipy.sparse as sp\n",
    "vect = CountVectorizer(ngram_range=(1, 2),analyzer='word', max_features=1000, stop_words='english')\n",
    "X_train_bow = sp.hstack(X_train.apply(lambda col: vect.fit_transform(col)))\n",
    "X_train_bow = X_train_bow.toarray()\n",
    "print(\"Données de train en vecteur :\",X_train_bow.shape)"
   ]
  },
  {
   "cell_type": "code",
   "execution_count": 15,
   "id": "03ad7883",
   "metadata": {
    "colab": {
     "base_uri": "https://localhost:8080/"
    },
    "id": "03ad7883",
    "outputId": "d6662eca-bf54-40ed-df6d-86e329c070c1"
   },
   "outputs": [
    {
     "name": "stdout",
     "output_type": "stream",
     "text": [
      "Données de test en vecteur : (1000, 2000)\n"
     ]
    }
   ],
   "source": [
    "X_test_bow = sp.hstack(X_test.apply(lambda col: vect.transform(col)))\n",
    "X_test_bow = X_test_bow.toarray()\n",
    "print(\"Données de test en vecteur :\",X_test_bow.shape)"
   ]
  },
  {
   "cell_type": "code",
   "execution_count": 16,
   "id": "fba0c1cd",
   "metadata": {
    "colab": {
     "base_uri": "https://localhost:8080/"
    },
    "id": "fba0c1cd",
    "outputId": "baf347e3-8d07-417c-c779-9c92a5a2d02d"
   },
   "outputs": [
    {
     "name": "stdout",
     "output_type": "stream",
     "text": [
      "Données de dev en vecteur : (1000, 2000)\n"
     ]
    }
   ],
   "source": [
    "X_dev_bow = sp.hstack(X_dev.apply(lambda col: vect.transform(col)))\n",
    "X_dev_bow = X_dev_bow.toarray()\n",
    "print(\"Données de dev en vecteur :\",X_dev_bow.shape)"
   ]
  },
  {
   "cell_type": "markdown",
   "id": "modified-census",
   "metadata": {
    "id": "modified-census"
   },
   "source": [
    "##### Prédiction via SVM - Support Vector Classification"
   ]
  },
  {
   "cell_type": "code",
   "execution_count": 17,
   "id": "ee90e2c1",
   "metadata": {
    "colab": {
     "base_uri": "https://localhost:8080/"
    },
    "id": "ee90e2c1",
    "outputId": "3c1562d1-7646-4c75-9521-908bcafcf9b1"
   },
   "outputs": [
    {
     "data": {
      "text/plain": [
       "SVC()"
      ]
     },
     "execution_count": 17,
     "metadata": {},
     "output_type": "execute_result"
    }
   ],
   "source": [
    "clf = svm.SVC()\n",
    "clf.fit(X_train_bow, Y_train)"
   ]
  },
  {
   "cell_type": "code",
   "execution_count": 18,
   "id": "7381f1a7",
   "metadata": {
    "id": "7381f1a7"
   },
   "outputs": [],
   "source": [
    "Y_predict_bow = clf.predict(X_test_bow)"
   ]
  },
  {
   "cell_type": "code",
   "execution_count": 19,
   "id": "ed585eda",
   "metadata": {
    "id": "ed585eda",
    "outputId": "719d90b4-6f40-4653-d003-3acdf0dd39cc"
   },
   "outputs": [
    {
     "data": {
      "text/plain": [
       "0.506"
      ]
     },
     "execution_count": 19,
     "metadata": {},
     "output_type": "execute_result"
    }
   ],
   "source": [
    "accuracy_score(Y_test,Y_predict_bow)"
   ]
  },
  {
   "cell_type": "markdown",
   "id": "middle-orientation",
   "metadata": {
    "id": "middle-orientation"
   },
   "source": [
    "#### Term Frequency-Inverse Document Frequency (TF-IDF) Embedding"
   ]
  },
  {
   "cell_type": "code",
   "execution_count": 20,
   "id": "backed-command",
   "metadata": {
    "id": "backed-command"
   },
   "outputs": [],
   "source": [
    "vect = TfidfVectorizer(max_features=1000)"
   ]
  },
  {
   "cell_type": "code",
   "execution_count": 21,
   "id": "greatest-bidding",
   "metadata": {
    "id": "greatest-bidding",
    "outputId": "d9395ce9-517c-4dc6-d310-8d47af710f90"
   },
   "outputs": [
    {
     "name": "stdout",
     "output_type": "stream",
     "text": [
      "Données de train en vecteur : (8000, 2000)\n"
     ]
    }
   ],
   "source": [
    "X_train_tfidf = sp.hstack(X_train.apply(lambda col: vect.fit_transform(col)))\n",
    "print(\"Données de train en vecteur :\",X_train_tfidf.shape)"
   ]
  },
  {
   "cell_type": "code",
   "execution_count": 22,
   "id": "juvenile-binary",
   "metadata": {
    "id": "juvenile-binary",
    "outputId": "73417725-8a60-4464-8208-4e8e7351fb9a"
   },
   "outputs": [
    {
     "name": "stdout",
     "output_type": "stream",
     "text": [
      "Données de test en vecteur : (1000, 2000)\n"
     ]
    }
   ],
   "source": [
    "X_test_tfidf = sp.hstack(X_test.apply(lambda col: vect.transform(col)))\n",
    "print(\"Données de test en vecteur :\",X_test_tfidf.shape)"
   ]
  },
  {
   "cell_type": "code",
   "execution_count": 23,
   "id": "contained-punch",
   "metadata": {
    "id": "contained-punch",
    "outputId": "c7d34baf-17b6-44c0-da02-3e5724659421"
   },
   "outputs": [
    {
     "name": "stdout",
     "output_type": "stream",
     "text": [
      "Données de dev en vecteur : (1000, 2000)\n"
     ]
    }
   ],
   "source": [
    "X_dev_tfidf = sp.hstack(X_dev.apply(lambda col: vect.transform(col)))\n",
    "print(\"Données de dev en vecteur :\",X_dev_tfidf.shape)"
   ]
  },
  {
   "cell_type": "markdown",
   "id": "d34f77ad",
   "metadata": {},
   "source": [
    "Pour chaque words embeding, nous allons utilisé les algorithmes d'apprentissage automatique suivants :\n",
    "  - SVM"
   ]
  },
  {
   "cell_type": "markdown",
   "id": "360b305b",
   "metadata": {},
   "source": [
    "### SVM - Support Vector Classification"
   ]
  },
  {
   "cell_type": "code",
   "execution_count": 30,
   "id": "72adec4d",
   "metadata": {},
   "outputs": [],
   "source": [
    "from sklearn.model_selection import GridSearchCV"
   ]
  },
  {
   "cell_type": "code",
   "execution_count": null,
   "id": "354f10ee",
   "metadata": {},
   "outputs": [],
   "source": [
    "parameters = {'kernel':('linear', 'rbf'), 'C':[0.0001, 0.001, 0.01, 0.1, 1, 10]}\n",
    "svc = svm.SVC()\n",
    "clf = GridSearchCV(svc, parameters)\n",
    "clf.fit(X_train_bow, Y_train)\n",
    "GridSearchCV(estimator=SVC(),\n",
    "             param_grid={'C': parameters['C'], 'kernel': parameters['kernel']})"
   ]
  },
  {
   "cell_type": "code",
   "execution_count": null,
   "id": "7da51c19",
   "metadata": {},
   "outputs": [],
   "source": [
    "sorted(clf.cv_results_.keys())"
   ]
  },
  {
   "cell_type": "markdown",
   "id": "modified-census",
   "metadata": {},
   "source": [
    "##### Prédiction via SVM - Support Vector Classification"
   ]
  },
  {
   "cell_type": "code",
   "execution_count": 20,
   "id": "ee90e2c1",
   "metadata": {
    "colab": {
     "base_uri": "https://localhost:8080/"
    },
    "id": "ee90e2c1",
    "outputId": "3c1562d1-7646-4c75-9521-908bcafcf9b1"
   },
   "outputs": [
    {
     "data": {
      "text/plain": [
       "SVC()"
      ]
     },
     "execution_count": 20,
     "metadata": {},
     "output_type": "execute_result"
    }
   ],
   "source": [
    "clf = svm.SVC()\n",
    "clf.fit(X_train_bow, Y_train)"
   ]
  },
  {
   "cell_type": "code",
   "execution_count": 21,
   "id": "7381f1a7",
   "metadata": {
    "id": "7381f1a7"
   },
   "outputs": [],
   "source": [
    "Y_predict_bow = clf.predict(X_test_bow)"
   ]
  },
  {
   "cell_type": "code",
   "execution_count": 22,
   "id": "ed585eda",
   "metadata": {
    "id": "ed585eda"
   },
   "outputs": [
    {
     "data": {
      "text/plain": [
       "0.984"
      ]
     },
     "execution_count": 22,
     "metadata": {},
     "output_type": "execute_result"
    }
   ],
   "source": [
    "accuracy_score(Y_test,Y_predict_bow)"
   ]
  },
  {
   "cell_type": "markdown",
   "id": "nasty-carpet",
   "metadata": {
    "id": "nasty-carpet"
   },
   "source": [
    "##### Prédiction SVM - TF-IDF"
   ]
  },
  {
   "cell_type": "code",
   "execution_count": 24,
   "id": "tested-brother",
   "metadata": {
    "id": "tested-brother",
    "outputId": "11328a78-499b-473e-9d18-afd10995fe6b"
   },
   "outputs": [
    {
     "data": {
      "text/plain": [
       "SVC()"
      ]
     },
     "execution_count": 24,
     "metadata": {},
     "output_type": "execute_result"
    }
   ],
   "source": [
    "clf = svm.SVC()\n",
    "clf.fit(X_train_tfidf, Y_train)"
   ]
  },
  {
   "cell_type": "code",
   "execution_count": 25,
   "id": "declared-catering",
   "metadata": {
    "id": "declared-catering"
   },
   "outputs": [],
   "source": [
    "Y_predict_tfidf = clf.predict(X_test_tfidf)"
   ]
  },
  {
   "cell_type": "code",
   "execution_count": 26,
   "id": "exclusive-article",
   "metadata": {
    "id": "exclusive-article",
    "outputId": "a98a4cb4-0224-44f7-e83f-cf2ac399ffe0"
   },
   "outputs": [
    {
     "data": {
      "text/plain": [
       "0.987"
      ]
     },
     "execution_count": 26,
     "metadata": {},
     "output_type": "execute_result"
    }
   ],
   "source": [
    "accuracy_score(Y_test,Y_predict_tfidf)"
   ]
  },
  {
   "cell_type": "markdown",
   "id": "232ccca6",
   "metadata": {},
   "source": [
    "### Réseaux de neurones"
   ]
  },
  {
   "cell_type": "markdown",
   "id": "db1f9193",
   "metadata": {},
   "source": [
    "Nous avons ensuite implémenté des réseaux de neurones, cf [reseaux_neurones](reseaux_neurones.ipynb), et enregistré les résultats dans un fichier texte. En effet, le code étant assez lourd et peu digeste, nous avons décidé de séparer celui-ci de son étude qui va suivre."
   ]
  },
  {
   "cell_type": "code",
   "execution_count": 27,
   "id": "J_KLJD_e1D3C",
   "metadata": {
    "id": "J_KLJD_e1D3C"
   },
   "outputs": [],
   "source": [
    "data = pd.read_csv('resultat.txt',sep=',')"
   ]
  },
  {
   "cell_type": "code",
   "execution_count": 56,
   "id": "wDAZEYCq1M5Z",
   "metadata": {
    "colab": {
     "base_uri": "https://localhost:8080/",
     "height": 551
    },
    "id": "wDAZEYCq1M5Z",
    "outputId": "9c386229-6168-4080-8266-02e1fe7027b7"
   },
   "outputs": [
    {
     "data": {
      "text/html": [
       "<div>\n",
       "<style scoped>\n",
       "    .dataframe tbody tr th:only-of-type {\n",
       "        vertical-align: middle;\n",
       "    }\n",
       "\n",
       "    .dataframe tbody tr th {\n",
       "        vertical-align: top;\n",
       "    }\n",
       "\n",
       "    .dataframe thead th {\n",
       "        text-align: right;\n",
       "    }\n",
       "</style>\n",
       "<table border=\"1\" class=\"dataframe\">\n",
       "  <thead>\n",
       "    <tr style=\"text-align: right;\">\n",
       "      <th></th>\n",
       "      <th>Nom</th>\n",
       "      <th>Nombre d'itérations</th>\n",
       "      <th>Dropout</th>\n",
       "      <th>Precision</th>\n",
       "      <th>Rappel</th>\n",
       "      <th>Score-F1</th>\n",
       "      <th>Accuracy</th>\n",
       "      <th>Tps appr (ms)</th>\n",
       "      <th>Tps test (ms)</th>\n",
       "      <th>Mem test(bit)</th>\n",
       "      <th>nbr param</th>\n",
       "      <th>Taille(bit)</th>\n",
       "    </tr>\n",
       "  </thead>\n",
       "  <tbody>\n",
       "    <tr>\n",
       "      <th>0</th>\n",
       "      <td>Deep_Neural_Network</td>\n",
       "      <td>20</td>\n",
       "      <td>0.0</td>\n",
       "      <td>0.990</td>\n",
       "      <td>0.9915</td>\n",
       "      <td>0.9915</td>\n",
       "      <td>0.9915</td>\n",
       "      <td>41481</td>\n",
       "      <td>335</td>\n",
       "      <td>2345</td>\n",
       "      <td>1883137</td>\n",
       "      <td>4096</td>\n",
       "    </tr>\n",
       "    <tr>\n",
       "      <th>1</th>\n",
       "      <td>Deep_Neural_Network</td>\n",
       "      <td>20</td>\n",
       "      <td>0.2</td>\n",
       "      <td>0.990</td>\n",
       "      <td>0.9925</td>\n",
       "      <td>0.9925</td>\n",
       "      <td>0.9925</td>\n",
       "      <td>82596</td>\n",
       "      <td>350</td>\n",
       "      <td>23438</td>\n",
       "      <td>1883137</td>\n",
       "      <td>4096</td>\n",
       "    </tr>\n",
       "    <tr>\n",
       "      <th>2</th>\n",
       "      <td>Deep_Neural_Network</td>\n",
       "      <td>20</td>\n",
       "      <td>0.5</td>\n",
       "      <td>0.988</td>\n",
       "      <td>0.9920</td>\n",
       "      <td>0.9920</td>\n",
       "      <td>0.9920</td>\n",
       "      <td>82573</td>\n",
       "      <td>358</td>\n",
       "      <td>23438</td>\n",
       "      <td>1883137</td>\n",
       "      <td>4096</td>\n",
       "    </tr>\n",
       "    <tr>\n",
       "      <th>3</th>\n",
       "      <td>Deep_Neural_Network</td>\n",
       "      <td>20</td>\n",
       "      <td>0.8</td>\n",
       "      <td>0.991</td>\n",
       "      <td>0.9930</td>\n",
       "      <td>0.9930</td>\n",
       "      <td>0.9930</td>\n",
       "      <td>82594</td>\n",
       "      <td>356</td>\n",
       "      <td>25789</td>\n",
       "      <td>1883137</td>\n",
       "      <td>4096</td>\n",
       "    </tr>\n",
       "    <tr>\n",
       "      <th>4</th>\n",
       "      <td>LSTM</td>\n",
       "      <td>20</td>\n",
       "      <td>0.0</td>\n",
       "      <td>0.987</td>\n",
       "      <td>0.9905</td>\n",
       "      <td>0.9905</td>\n",
       "      <td>0.9905</td>\n",
       "      <td>133330</td>\n",
       "      <td>1104</td>\n",
       "      <td>23438</td>\n",
       "      <td>885505</td>\n",
       "      <td>4096</td>\n",
       "    </tr>\n",
       "    <tr>\n",
       "      <th>5</th>\n",
       "      <td>LSTM</td>\n",
       "      <td>20</td>\n",
       "      <td>0.2</td>\n",
       "      <td>0.992</td>\n",
       "      <td>0.9905</td>\n",
       "      <td>0.9905</td>\n",
       "      <td>0.9905</td>\n",
       "      <td>140251</td>\n",
       "      <td>1131</td>\n",
       "      <td>32825</td>\n",
       "      <td>885505</td>\n",
       "      <td>4096</td>\n",
       "    </tr>\n",
       "    <tr>\n",
       "      <th>6</th>\n",
       "      <td>LSTM</td>\n",
       "      <td>20</td>\n",
       "      <td>0.5</td>\n",
       "      <td>0.989</td>\n",
       "      <td>0.9910</td>\n",
       "      <td>0.9910</td>\n",
       "      <td>0.9910</td>\n",
       "      <td>141234</td>\n",
       "      <td>1117</td>\n",
       "      <td>23438</td>\n",
       "      <td>885505</td>\n",
       "      <td>4096</td>\n",
       "    </tr>\n",
       "    <tr>\n",
       "      <th>7</th>\n",
       "      <td>LSTM</td>\n",
       "      <td>20</td>\n",
       "      <td>0.8</td>\n",
       "      <td>0.991</td>\n",
       "      <td>0.9910</td>\n",
       "      <td>0.9910</td>\n",
       "      <td>0.9910</td>\n",
       "      <td>140077</td>\n",
       "      <td>1136</td>\n",
       "      <td>23438</td>\n",
       "      <td>885505</td>\n",
       "      <td>4096</td>\n",
       "    </tr>\n",
       "    <tr>\n",
       "      <th>8</th>\n",
       "      <td>GRU</td>\n",
       "      <td>20</td>\n",
       "      <td>0.0</td>\n",
       "      <td>0.977</td>\n",
       "      <td>0.9846</td>\n",
       "      <td>0.9845</td>\n",
       "      <td>0.9845</td>\n",
       "      <td>27414</td>\n",
       "      <td>258</td>\n",
       "      <td>46875</td>\n",
       "      <td>127489</td>\n",
       "      <td>4096</td>\n",
       "    </tr>\n",
       "    <tr>\n",
       "      <th>9</th>\n",
       "      <td>GRU</td>\n",
       "      <td>20</td>\n",
       "      <td>0.2</td>\n",
       "      <td>0.985</td>\n",
       "      <td>0.9870</td>\n",
       "      <td>0.9870</td>\n",
       "      <td>0.9870</td>\n",
       "      <td>27724</td>\n",
       "      <td>254</td>\n",
       "      <td>46875</td>\n",
       "      <td>127489</td>\n",
       "      <td>4096</td>\n",
       "    </tr>\n",
       "    <tr>\n",
       "      <th>10</th>\n",
       "      <td>GRU</td>\n",
       "      <td>20</td>\n",
       "      <td>0.5</td>\n",
       "      <td>0.974</td>\n",
       "      <td>0.9826</td>\n",
       "      <td>0.9825</td>\n",
       "      <td>0.9825</td>\n",
       "      <td>43391</td>\n",
       "      <td>252</td>\n",
       "      <td>46875</td>\n",
       "      <td>127489</td>\n",
       "      <td>4096</td>\n",
       "    </tr>\n",
       "    <tr>\n",
       "      <th>11</th>\n",
       "      <td>GRU</td>\n",
       "      <td>20</td>\n",
       "      <td>0.8</td>\n",
       "      <td>0.968</td>\n",
       "      <td>0.9829</td>\n",
       "      <td>0.9825</td>\n",
       "      <td>0.9825</td>\n",
       "      <td>28302</td>\n",
       "      <td>272</td>\n",
       "      <td>46875</td>\n",
       "      <td>127489</td>\n",
       "      <td>4096</td>\n",
       "    </tr>\n",
       "    <tr>\n",
       "      <th>12</th>\n",
       "      <td>BRNN</td>\n",
       "      <td>20</td>\n",
       "      <td>0.0</td>\n",
       "      <td>0.988</td>\n",
       "      <td>0.9905</td>\n",
       "      <td>0.9905</td>\n",
       "      <td>0.9905</td>\n",
       "      <td>55763</td>\n",
       "      <td>418</td>\n",
       "      <td>46875</td>\n",
       "      <td>582913</td>\n",
       "      <td>4096</td>\n",
       "    </tr>\n",
       "    <tr>\n",
       "      <th>13</th>\n",
       "      <td>BRNN</td>\n",
       "      <td>20</td>\n",
       "      <td>0.2</td>\n",
       "      <td>0.987</td>\n",
       "      <td>0.9905</td>\n",
       "      <td>0.9905</td>\n",
       "      <td>0.9905</td>\n",
       "      <td>56218</td>\n",
       "      <td>408</td>\n",
       "      <td>46875</td>\n",
       "      <td>582913</td>\n",
       "      <td>4096</td>\n",
       "    </tr>\n",
       "    <tr>\n",
       "      <th>14</th>\n",
       "      <td>BRNN</td>\n",
       "      <td>20</td>\n",
       "      <td>0.5</td>\n",
       "      <td>0.986</td>\n",
       "      <td>0.9895</td>\n",
       "      <td>0.9895</td>\n",
       "      <td>0.9895</td>\n",
       "      <td>55663</td>\n",
       "      <td>389</td>\n",
       "      <td>46875</td>\n",
       "      <td>582913</td>\n",
       "      <td>4096</td>\n",
       "    </tr>\n",
       "    <tr>\n",
       "      <th>15</th>\n",
       "      <td>BRNN</td>\n",
       "      <td>20</td>\n",
       "      <td>0.8</td>\n",
       "      <td>0.978</td>\n",
       "      <td>0.9841</td>\n",
       "      <td>0.9840</td>\n",
       "      <td>0.9840</td>\n",
       "      <td>55397</td>\n",
       "      <td>403</td>\n",
       "      <td>46875</td>\n",
       "      <td>582913</td>\n",
       "      <td>4096</td>\n",
       "    </tr>\n",
       "    <tr>\n",
       "      <th>16</th>\n",
       "      <td>RCNN</td>\n",
       "      <td>20</td>\n",
       "      <td>0.0</td>\n",
       "      <td>0.982</td>\n",
       "      <td>0.9891</td>\n",
       "      <td>0.9890</td>\n",
       "      <td>0.9890</td>\n",
       "      <td>55044</td>\n",
       "      <td>401</td>\n",
       "      <td>46875</td>\n",
       "      <td>582913</td>\n",
       "      <td>4096</td>\n",
       "    </tr>\n",
       "    <tr>\n",
       "      <th>17</th>\n",
       "      <td>RCNN</td>\n",
       "      <td>20</td>\n",
       "      <td>0.2</td>\n",
       "      <td>0.987</td>\n",
       "      <td>0.9895</td>\n",
       "      <td>0.9895</td>\n",
       "      <td>0.9895</td>\n",
       "      <td>86378</td>\n",
       "      <td>403</td>\n",
       "      <td>46875</td>\n",
       "      <td>582913</td>\n",
       "      <td>4096</td>\n",
       "    </tr>\n",
       "    <tr>\n",
       "      <th>18</th>\n",
       "      <td>RCNN</td>\n",
       "      <td>20</td>\n",
       "      <td>0.5</td>\n",
       "      <td>0.988</td>\n",
       "      <td>0.9900</td>\n",
       "      <td>0.9900</td>\n",
       "      <td>0.9900</td>\n",
       "      <td>85967</td>\n",
       "      <td>375</td>\n",
       "      <td>46875</td>\n",
       "      <td>582913</td>\n",
       "      <td>4096</td>\n",
       "    </tr>\n",
       "    <tr>\n",
       "      <th>19</th>\n",
       "      <td>RCNN</td>\n",
       "      <td>20</td>\n",
       "      <td>0.8</td>\n",
       "      <td>0.980</td>\n",
       "      <td>0.9845</td>\n",
       "      <td>0.9845</td>\n",
       "      <td>0.9845</td>\n",
       "      <td>85081</td>\n",
       "      <td>395</td>\n",
       "      <td>46875</td>\n",
       "      <td>582913</td>\n",
       "      <td>4096</td>\n",
       "    </tr>\n",
       "  </tbody>\n",
       "</table>\n",
       "</div>"
      ],
      "text/plain": [
       "                    Nom  Nombre d'itérations  Dropout  Precision  Rappel  \\\n",
       "0   Deep_Neural_Network                   20      0.0      0.990  0.9915   \n",
       "1   Deep_Neural_Network                   20      0.2      0.990  0.9925   \n",
       "2   Deep_Neural_Network                   20      0.5      0.988  0.9920   \n",
       "3   Deep_Neural_Network                   20      0.8      0.991  0.9930   \n",
       "4                  LSTM                   20      0.0      0.987  0.9905   \n",
       "5                  LSTM                   20      0.2      0.992  0.9905   \n",
       "6                  LSTM                   20      0.5      0.989  0.9910   \n",
       "7                  LSTM                   20      0.8      0.991  0.9910   \n",
       "8                   GRU                   20      0.0      0.977  0.9846   \n",
       "9                   GRU                   20      0.2      0.985  0.9870   \n",
       "10                  GRU                   20      0.5      0.974  0.9826   \n",
       "11                  GRU                   20      0.8      0.968  0.9829   \n",
       "12                 BRNN                   20      0.0      0.988  0.9905   \n",
       "13                 BRNN                   20      0.2      0.987  0.9905   \n",
       "14                 BRNN                   20      0.5      0.986  0.9895   \n",
       "15                 BRNN                   20      0.8      0.978  0.9841   \n",
       "16                 RCNN                   20      0.0      0.982  0.9891   \n",
       "17                 RCNN                   20      0.2      0.987  0.9895   \n",
       "18                 RCNN                   20      0.5      0.988  0.9900   \n",
       "19                 RCNN                   20      0.8      0.980  0.9845   \n",
       "\n",
       "    Score-F1  Accuracy  Tps appr (ms)  Tps test (ms)  Mem test(bit)  \\\n",
       "0     0.9915    0.9915          41481            335           2345   \n",
       "1     0.9925    0.9925          82596            350          23438   \n",
       "2     0.9920    0.9920          82573            358          23438   \n",
       "3     0.9930    0.9930          82594            356          25789   \n",
       "4     0.9905    0.9905         133330           1104          23438   \n",
       "5     0.9905    0.9905         140251           1131          32825   \n",
       "6     0.9910    0.9910         141234           1117          23438   \n",
       "7     0.9910    0.9910         140077           1136          23438   \n",
       "8     0.9845    0.9845          27414            258          46875   \n",
       "9     0.9870    0.9870          27724            254          46875   \n",
       "10    0.9825    0.9825          43391            252          46875   \n",
       "11    0.9825    0.9825          28302            272          46875   \n",
       "12    0.9905    0.9905          55763            418          46875   \n",
       "13    0.9905    0.9905          56218            408          46875   \n",
       "14    0.9895    0.9895          55663            389          46875   \n",
       "15    0.9840    0.9840          55397            403          46875   \n",
       "16    0.9890    0.9890          55044            401          46875   \n",
       "17    0.9895    0.9895          86378            403          46875   \n",
       "18    0.9900    0.9900          85967            375          46875   \n",
       "19    0.9845    0.9845          85081            395          46875   \n",
       "\n",
       "    nbr param  Taille(bit)  \n",
       "0     1883137         4096  \n",
       "1     1883137         4096  \n",
       "2     1883137         4096  \n",
       "3     1883137         4096  \n",
       "4      885505         4096  \n",
       "5      885505         4096  \n",
       "6      885505         4096  \n",
       "7      885505         4096  \n",
       "8      127489         4096  \n",
       "9      127489         4096  \n",
       "10     127489         4096  \n",
       "11     127489         4096  \n",
       "12     582913         4096  \n",
       "13     582913         4096  \n",
       "14     582913         4096  \n",
       "15     582913         4096  \n",
       "16     582913         4096  \n",
       "17     582913         4096  \n",
       "18     582913         4096  \n",
       "19     582913         4096  "
      ]
     },
     "execution_count": 56,
     "metadata": {},
     "output_type": "execute_result"
    }
   ],
   "source": [
    "data"
   ]
  },
  {
   "cell_type": "code",
   "execution_count": 40,
   "id": "C92sA2m8_tn_",
   "metadata": {
    "id": "C92sA2m8_tn_"
   },
   "outputs": [
    {
     "data": {
      "text/plain": [
       "['Deep_Neural_Network', 'LSTM', 'GRU', 'BRNN', 'RCNN']"
      ]
     },
     "execution_count": 40,
     "metadata": {},
     "output_type": "execute_result"
    }
   ],
   "source": [
    "reseaux = pd.unique(data[\"Nom\"]).tolist()\n",
    "reseaux"
   ]
  },
  {
   "cell_type": "raw",
   "id": "e3381a0f",
   "metadata": {},
   "source": [
    "Chaque réseau a 4 implémentations, on a varié le dropout (0 -> 0.2 -> 0.5 -> 0.8), on veut donc récupérer pour chauqe réseau, sa meilleure implémentation. On va notamment regarder l'accuracy."
   ]
  },
  {
   "cell_type": "code",
   "execution_count": 49,
   "id": "608336cc",
   "metadata": {},
   "outputs": [],
   "source": [
    "bestRes = list()\n",
    "for reseau in reseaux :\n",
    "    tmp = data[data[\"Nom\"] == reseau]\n",
    "    bestRes.append(tmp[tmp[\"Accuracy\"].max() == tmp[\"Accuracy\"]])"
   ]
  },
  {
   "cell_type": "markdown",
   "id": "feb84392",
   "metadata": {},
   "source": [
    "#### DNN"
   ]
  },
  {
   "cell_type": "code",
   "execution_count": 66,
   "id": "b7f46136",
   "metadata": {},
   "outputs": [
    {
     "data": {
      "text/html": [
       "<div>\n",
       "<style scoped>\n",
       "    .dataframe tbody tr th:only-of-type {\n",
       "        vertical-align: middle;\n",
       "    }\n",
       "\n",
       "    .dataframe tbody tr th {\n",
       "        vertical-align: top;\n",
       "    }\n",
       "\n",
       "    .dataframe thead th {\n",
       "        text-align: right;\n",
       "    }\n",
       "</style>\n",
       "<table border=\"1\" class=\"dataframe\">\n",
       "  <thead>\n",
       "    <tr style=\"text-align: right;\">\n",
       "      <th></th>\n",
       "      <th>Nom</th>\n",
       "      <th>Nombre d'itérations</th>\n",
       "      <th>Dropout</th>\n",
       "      <th>Precision</th>\n",
       "      <th>Rappel</th>\n",
       "      <th>Score-F1</th>\n",
       "      <th>Accuracy</th>\n",
       "      <th>Tps appr (ms)</th>\n",
       "      <th>Tps test (ms)</th>\n",
       "      <th>Mem test(bit)</th>\n",
       "      <th>nbr param</th>\n",
       "      <th>Taille(bit)</th>\n",
       "    </tr>\n",
       "  </thead>\n",
       "  <tbody>\n",
       "    <tr>\n",
       "      <th>3</th>\n",
       "      <td>Deep_Neural_Network</td>\n",
       "      <td>20</td>\n",
       "      <td>0.8</td>\n",
       "      <td>0.991</td>\n",
       "      <td>0.993</td>\n",
       "      <td>0.993</td>\n",
       "      <td>0.993</td>\n",
       "      <td>82594</td>\n",
       "      <td>356</td>\n",
       "      <td>25789</td>\n",
       "      <td>1883137</td>\n",
       "      <td>4096</td>\n",
       "    </tr>\n",
       "  </tbody>\n",
       "</table>\n",
       "</div>"
      ],
      "text/plain": [
       "                   Nom  Nombre d'itérations  Dropout  Precision  Rappel  \\\n",
       "3  Deep_Neural_Network                   20      0.8      0.991   0.993   \n",
       "\n",
       "   Score-F1  Accuracy  Tps appr (ms)  Tps test (ms)  Mem test(bit)  nbr param  \\\n",
       "3     0.993     0.993          82594            356          25789    1883137   \n",
       "\n",
       "   Taille(bit)  \n",
       "3         4096  "
      ]
     },
     "execution_count": 66,
     "metadata": {},
     "output_type": "execute_result"
    }
   ],
   "source": [
    "bestRes[0]"
   ]
  },
  {
   "cell_type": "markdown",
   "id": "8fae3d6f",
   "metadata": {},
   "source": [
    "#### LSTM"
   ]
  },
  {
   "cell_type": "code",
   "execution_count": 72,
   "id": "60f0b884",
   "metadata": {},
   "outputs": [
    {
     "data": {
      "text/html": [
       "<div>\n",
       "<style scoped>\n",
       "    .dataframe tbody tr th:only-of-type {\n",
       "        vertical-align: middle;\n",
       "    }\n",
       "\n",
       "    .dataframe tbody tr th {\n",
       "        vertical-align: top;\n",
       "    }\n",
       "\n",
       "    .dataframe thead th {\n",
       "        text-align: right;\n",
       "    }\n",
       "</style>\n",
       "<table border=\"1\" class=\"dataframe\">\n",
       "  <thead>\n",
       "    <tr style=\"text-align: right;\">\n",
       "      <th></th>\n",
       "      <th>Nom</th>\n",
       "      <th>Nombre d'itérations</th>\n",
       "      <th>Dropout</th>\n",
       "      <th>Precision</th>\n",
       "      <th>Rappel</th>\n",
       "      <th>Score-F1</th>\n",
       "      <th>Accuracy</th>\n",
       "      <th>Tps appr (ms)</th>\n",
       "      <th>Tps test (ms)</th>\n",
       "      <th>Mem test(bit)</th>\n",
       "      <th>nbr param</th>\n",
       "      <th>Taille(bit)</th>\n",
       "    </tr>\n",
       "  </thead>\n",
       "  <tbody>\n",
       "    <tr>\n",
       "      <th>6</th>\n",
       "      <td>LSTM</td>\n",
       "      <td>20</td>\n",
       "      <td>0.5</td>\n",
       "      <td>0.989</td>\n",
       "      <td>0.991</td>\n",
       "      <td>0.991</td>\n",
       "      <td>0.991</td>\n",
       "      <td>141234</td>\n",
       "      <td>1117</td>\n",
       "      <td>23438</td>\n",
       "      <td>885505</td>\n",
       "      <td>4096</td>\n",
       "    </tr>\n",
       "    <tr>\n",
       "      <th>7</th>\n",
       "      <td>LSTM</td>\n",
       "      <td>20</td>\n",
       "      <td>0.8</td>\n",
       "      <td>0.991</td>\n",
       "      <td>0.991</td>\n",
       "      <td>0.991</td>\n",
       "      <td>0.991</td>\n",
       "      <td>140077</td>\n",
       "      <td>1136</td>\n",
       "      <td>23438</td>\n",
       "      <td>885505</td>\n",
       "      <td>4096</td>\n",
       "    </tr>\n",
       "  </tbody>\n",
       "</table>\n",
       "</div>"
      ],
      "text/plain": [
       "    Nom  Nombre d'itérations  Dropout  Precision  Rappel  Score-F1  Accuracy  \\\n",
       "6  LSTM                   20      0.5      0.989   0.991     0.991     0.991   \n",
       "7  LSTM                   20      0.8      0.991   0.991     0.991     0.991   \n",
       "\n",
       "   Tps appr (ms)  Tps test (ms)  Mem test(bit)  nbr param  Taille(bit)  \n",
       "6         141234           1117          23438     885505         4096  \n",
       "7         140077           1136          23438     885505         4096  "
      ]
     },
     "execution_count": 72,
     "metadata": {},
     "output_type": "execute_result"
    }
   ],
   "source": [
    "bestRes[1]"
   ]
  },
  {
   "cell_type": "raw",
   "id": "b08086b9",
   "metadata": {},
   "source": [
    "On remarque que pour LSTM, nous avons deux résultats, ils ont la même accuracy, mais également le même score-F1 et rappel. On décide donc de les départager via leur précision."
   ]
  },
  {
   "cell_type": "code",
   "execution_count": 78,
   "id": "c775116c",
   "metadata": {},
   "outputs": [],
   "source": [
    "bestRes[1] = bestRes[1][bestRes[1].Precision.max() == bestRes[1].Precision]"
   ]
  },
  {
   "cell_type": "code",
   "execution_count": 79,
   "id": "1d862b1e",
   "metadata": {},
   "outputs": [
    {
     "data": {
      "text/html": [
       "<div>\n",
       "<style scoped>\n",
       "    .dataframe tbody tr th:only-of-type {\n",
       "        vertical-align: middle;\n",
       "    }\n",
       "\n",
       "    .dataframe tbody tr th {\n",
       "        vertical-align: top;\n",
       "    }\n",
       "\n",
       "    .dataframe thead th {\n",
       "        text-align: right;\n",
       "    }\n",
       "</style>\n",
       "<table border=\"1\" class=\"dataframe\">\n",
       "  <thead>\n",
       "    <tr style=\"text-align: right;\">\n",
       "      <th></th>\n",
       "      <th>Nom</th>\n",
       "      <th>Nombre d'itérations</th>\n",
       "      <th>Dropout</th>\n",
       "      <th>Precision</th>\n",
       "      <th>Rappel</th>\n",
       "      <th>Score-F1</th>\n",
       "      <th>Accuracy</th>\n",
       "      <th>Tps appr (ms)</th>\n",
       "      <th>Tps test (ms)</th>\n",
       "      <th>Mem test(bit)</th>\n",
       "      <th>nbr param</th>\n",
       "      <th>Taille(bit)</th>\n",
       "    </tr>\n",
       "  </thead>\n",
       "  <tbody>\n",
       "    <tr>\n",
       "      <th>7</th>\n",
       "      <td>LSTM</td>\n",
       "      <td>20</td>\n",
       "      <td>0.8</td>\n",
       "      <td>0.991</td>\n",
       "      <td>0.991</td>\n",
       "      <td>0.991</td>\n",
       "      <td>0.991</td>\n",
       "      <td>140077</td>\n",
       "      <td>1136</td>\n",
       "      <td>23438</td>\n",
       "      <td>885505</td>\n",
       "      <td>4096</td>\n",
       "    </tr>\n",
       "  </tbody>\n",
       "</table>\n",
       "</div>"
      ],
      "text/plain": [
       "    Nom  Nombre d'itérations  Dropout  Precision  Rappel  Score-F1  Accuracy  \\\n",
       "7  LSTM                   20      0.8      0.991   0.991     0.991     0.991   \n",
       "\n",
       "   Tps appr (ms)  Tps test (ms)  Mem test(bit)  nbr param  Taille(bit)  \n",
       "7         140077           1136          23438     885505         4096  "
      ]
     },
     "execution_count": 79,
     "metadata": {},
     "output_type": "execute_result"
    }
   ],
   "source": [
    "bestRes[1]"
   ]
  },
  {
   "cell_type": "markdown",
   "id": "b0bbb87e",
   "metadata": {},
   "source": [
    "#### GRU"
   ]
  },
  {
   "cell_type": "code",
   "execution_count": 71,
   "id": "72b9d645",
   "metadata": {},
   "outputs": [
    {
     "data": {
      "text/html": [
       "<div>\n",
       "<style scoped>\n",
       "    .dataframe tbody tr th:only-of-type {\n",
       "        vertical-align: middle;\n",
       "    }\n",
       "\n",
       "    .dataframe tbody tr th {\n",
       "        vertical-align: top;\n",
       "    }\n",
       "\n",
       "    .dataframe thead th {\n",
       "        text-align: right;\n",
       "    }\n",
       "</style>\n",
       "<table border=\"1\" class=\"dataframe\">\n",
       "  <thead>\n",
       "    <tr style=\"text-align: right;\">\n",
       "      <th></th>\n",
       "      <th>Nom</th>\n",
       "      <th>Nombre d'itérations</th>\n",
       "      <th>Dropout</th>\n",
       "      <th>Precision</th>\n",
       "      <th>Rappel</th>\n",
       "      <th>Score-F1</th>\n",
       "      <th>Accuracy</th>\n",
       "      <th>Tps appr (ms)</th>\n",
       "      <th>Tps test (ms)</th>\n",
       "      <th>Mem test(bit)</th>\n",
       "      <th>nbr param</th>\n",
       "      <th>Taille(bit)</th>\n",
       "    </tr>\n",
       "  </thead>\n",
       "  <tbody>\n",
       "    <tr>\n",
       "      <th>9</th>\n",
       "      <td>GRU</td>\n",
       "      <td>20</td>\n",
       "      <td>0.2</td>\n",
       "      <td>0.985</td>\n",
       "      <td>0.987</td>\n",
       "      <td>0.987</td>\n",
       "      <td>0.987</td>\n",
       "      <td>27724</td>\n",
       "      <td>254</td>\n",
       "      <td>46875</td>\n",
       "      <td>127489</td>\n",
       "      <td>4096</td>\n",
       "    </tr>\n",
       "  </tbody>\n",
       "</table>\n",
       "</div>"
      ],
      "text/plain": [
       "   Nom  Nombre d'itérations  Dropout  Precision  Rappel  Score-F1  Accuracy  \\\n",
       "9  GRU                   20      0.2      0.985   0.987     0.987     0.987   \n",
       "\n",
       "   Tps appr (ms)  Tps test (ms)  Mem test(bit)  nbr param  Taille(bit)  \n",
       "9          27724            254          46875     127489         4096  "
      ]
     },
     "execution_count": 71,
     "metadata": {},
     "output_type": "execute_result"
    }
   ],
   "source": [
    "bestRes[2]"
   ]
  },
  {
   "cell_type": "markdown",
   "id": "e2720f04",
   "metadata": {},
   "source": [
    "#### BRNN"
   ]
  },
  {
   "cell_type": "code",
   "execution_count": 70,
   "id": "6d854e04",
   "metadata": {},
   "outputs": [
    {
     "data": {
      "text/html": [
       "<div>\n",
       "<style scoped>\n",
       "    .dataframe tbody tr th:only-of-type {\n",
       "        vertical-align: middle;\n",
       "    }\n",
       "\n",
       "    .dataframe tbody tr th {\n",
       "        vertical-align: top;\n",
       "    }\n",
       "\n",
       "    .dataframe thead th {\n",
       "        text-align: right;\n",
       "    }\n",
       "</style>\n",
       "<table border=\"1\" class=\"dataframe\">\n",
       "  <thead>\n",
       "    <tr style=\"text-align: right;\">\n",
       "      <th></th>\n",
       "      <th>Nom</th>\n",
       "      <th>Nombre d'itérations</th>\n",
       "      <th>Dropout</th>\n",
       "      <th>Precision</th>\n",
       "      <th>Rappel</th>\n",
       "      <th>Score-F1</th>\n",
       "      <th>Accuracy</th>\n",
       "      <th>Tps appr (ms)</th>\n",
       "      <th>Tps test (ms)</th>\n",
       "      <th>Mem test(bit)</th>\n",
       "      <th>nbr param</th>\n",
       "      <th>Taille(bit)</th>\n",
       "    </tr>\n",
       "  </thead>\n",
       "  <tbody>\n",
       "    <tr>\n",
       "      <th>12</th>\n",
       "      <td>BRNN</td>\n",
       "      <td>20</td>\n",
       "      <td>0.0</td>\n",
       "      <td>0.988</td>\n",
       "      <td>0.9905</td>\n",
       "      <td>0.9905</td>\n",
       "      <td>0.9905</td>\n",
       "      <td>55763</td>\n",
       "      <td>418</td>\n",
       "      <td>46875</td>\n",
       "      <td>582913</td>\n",
       "      <td>4096</td>\n",
       "    </tr>\n",
       "    <tr>\n",
       "      <th>13</th>\n",
       "      <td>BRNN</td>\n",
       "      <td>20</td>\n",
       "      <td>0.2</td>\n",
       "      <td>0.987</td>\n",
       "      <td>0.9905</td>\n",
       "      <td>0.9905</td>\n",
       "      <td>0.9905</td>\n",
       "      <td>56218</td>\n",
       "      <td>408</td>\n",
       "      <td>46875</td>\n",
       "      <td>582913</td>\n",
       "      <td>4096</td>\n",
       "    </tr>\n",
       "  </tbody>\n",
       "</table>\n",
       "</div>"
      ],
      "text/plain": [
       "     Nom  Nombre d'itérations  Dropout  Precision  Rappel  Score-F1  Accuracy  \\\n",
       "12  BRNN                   20      0.0      0.988  0.9905    0.9905    0.9905   \n",
       "13  BRNN                   20      0.2      0.987  0.9905    0.9905    0.9905   \n",
       "\n",
       "    Tps appr (ms)  Tps test (ms)  Mem test(bit)  nbr param  Taille(bit)  \n",
       "12          55763            418          46875     582913         4096  \n",
       "13          56218            408          46875     582913         4096  "
      ]
     },
     "execution_count": 70,
     "metadata": {},
     "output_type": "execute_result"
    }
   ],
   "source": [
    "bestRes[3]"
   ]
  },
  {
   "cell_type": "raw",
   "id": "ba4ac803",
   "metadata": {},
   "source": [
    "Même cas que LSTM."
   ]
  },
  {
   "cell_type": "code",
   "execution_count": 80,
   "id": "61f64b4f",
   "metadata": {},
   "outputs": [],
   "source": [
    "bestRes[3] = bestRes[3][bestRes[3].Precision.max() == bestRes[3].Precision]"
   ]
  },
  {
   "cell_type": "code",
   "execution_count": 81,
   "id": "dc6397b2",
   "metadata": {},
   "outputs": [
    {
     "data": {
      "text/html": [
       "<div>\n",
       "<style scoped>\n",
       "    .dataframe tbody tr th:only-of-type {\n",
       "        vertical-align: middle;\n",
       "    }\n",
       "\n",
       "    .dataframe tbody tr th {\n",
       "        vertical-align: top;\n",
       "    }\n",
       "\n",
       "    .dataframe thead th {\n",
       "        text-align: right;\n",
       "    }\n",
       "</style>\n",
       "<table border=\"1\" class=\"dataframe\">\n",
       "  <thead>\n",
       "    <tr style=\"text-align: right;\">\n",
       "      <th></th>\n",
       "      <th>Nom</th>\n",
       "      <th>Nombre d'itérations</th>\n",
       "      <th>Dropout</th>\n",
       "      <th>Precision</th>\n",
       "      <th>Rappel</th>\n",
       "      <th>Score-F1</th>\n",
       "      <th>Accuracy</th>\n",
       "      <th>Tps appr (ms)</th>\n",
       "      <th>Tps test (ms)</th>\n",
       "      <th>Mem test(bit)</th>\n",
       "      <th>nbr param</th>\n",
       "      <th>Taille(bit)</th>\n",
       "    </tr>\n",
       "  </thead>\n",
       "  <tbody>\n",
       "    <tr>\n",
       "      <th>12</th>\n",
       "      <td>BRNN</td>\n",
       "      <td>20</td>\n",
       "      <td>0.0</td>\n",
       "      <td>0.988</td>\n",
       "      <td>0.9905</td>\n",
       "      <td>0.9905</td>\n",
       "      <td>0.9905</td>\n",
       "      <td>55763</td>\n",
       "      <td>418</td>\n",
       "      <td>46875</td>\n",
       "      <td>582913</td>\n",
       "      <td>4096</td>\n",
       "    </tr>\n",
       "  </tbody>\n",
       "</table>\n",
       "</div>"
      ],
      "text/plain": [
       "     Nom  Nombre d'itérations  Dropout  Precision  Rappel  Score-F1  Accuracy  \\\n",
       "12  BRNN                   20      0.0      0.988  0.9905    0.9905    0.9905   \n",
       "\n",
       "    Tps appr (ms)  Tps test (ms)  Mem test(bit)  nbr param  Taille(bit)  \n",
       "12          55763            418          46875     582913         4096  "
      ]
     },
     "execution_count": 81,
     "metadata": {},
     "output_type": "execute_result"
    }
   ],
   "source": [
    "bestRes[3]"
   ]
  },
  {
   "cell_type": "markdown",
   "id": "f1b65846",
   "metadata": {},
   "source": [
    "#### RCNN"
   ]
  },
  {
   "cell_type": "code",
   "execution_count": 73,
   "id": "d9c5ad84",
   "metadata": {},
   "outputs": [
    {
     "data": {
      "text/html": [
       "<div>\n",
       "<style scoped>\n",
       "    .dataframe tbody tr th:only-of-type {\n",
       "        vertical-align: middle;\n",
       "    }\n",
       "\n",
       "    .dataframe tbody tr th {\n",
       "        vertical-align: top;\n",
       "    }\n",
       "\n",
       "    .dataframe thead th {\n",
       "        text-align: right;\n",
       "    }\n",
       "</style>\n",
       "<table border=\"1\" class=\"dataframe\">\n",
       "  <thead>\n",
       "    <tr style=\"text-align: right;\">\n",
       "      <th></th>\n",
       "      <th>Nom</th>\n",
       "      <th>Nombre d'itérations</th>\n",
       "      <th>Dropout</th>\n",
       "      <th>Precision</th>\n",
       "      <th>Rappel</th>\n",
       "      <th>Score-F1</th>\n",
       "      <th>Accuracy</th>\n",
       "      <th>Tps appr (ms)</th>\n",
       "      <th>Tps test (ms)</th>\n",
       "      <th>Mem test(bit)</th>\n",
       "      <th>nbr param</th>\n",
       "      <th>Taille(bit)</th>\n",
       "    </tr>\n",
       "  </thead>\n",
       "  <tbody>\n",
       "    <tr>\n",
       "      <th>18</th>\n",
       "      <td>RCNN</td>\n",
       "      <td>20</td>\n",
       "      <td>0.5</td>\n",
       "      <td>0.988</td>\n",
       "      <td>0.99</td>\n",
       "      <td>0.99</td>\n",
       "      <td>0.99</td>\n",
       "      <td>85967</td>\n",
       "      <td>375</td>\n",
       "      <td>46875</td>\n",
       "      <td>582913</td>\n",
       "      <td>4096</td>\n",
       "    </tr>\n",
       "  </tbody>\n",
       "</table>\n",
       "</div>"
      ],
      "text/plain": [
       "     Nom  Nombre d'itérations  Dropout  Precision  Rappel  Score-F1  Accuracy  \\\n",
       "18  RCNN                   20      0.5      0.988    0.99      0.99      0.99   \n",
       "\n",
       "    Tps appr (ms)  Tps test (ms)  Mem test(bit)  nbr param  Taille(bit)  \n",
       "18          85967            375          46875     582913         4096  "
      ]
     },
     "execution_count": 73,
     "metadata": {},
     "output_type": "execute_result"
    }
   ],
   "source": [
    "bestRes[4]"
   ]
  },
  {
   "cell_type": "code",
   "execution_count": null,
   "id": "5fc0bc29",
   "metadata": {},
   "outputs": [],
   "source": []
  }
 ],
 "metadata": {
  "colab": {
   "collapsed_sections": [],
   "name": "Traitement.ipynb",
   "provenance": []
  },
  "kernelspec": {
   "display_name": "Python 3 (ipykernel)",
   "language": "python",
   "name": "python3"
  },
  "language_info": {
   "codemirror_mode": {
    "name": "ipython",
    "version": 3
   },
   "file_extension": ".py",
   "mimetype": "text/x-python",
   "name": "python",
   "nbconvert_exporter": "python",
   "pygments_lexer": "ipython3",
   "version": "3.9.7"
  }
 },
 "nbformat": 4,
 "nbformat_minor": 5
}
