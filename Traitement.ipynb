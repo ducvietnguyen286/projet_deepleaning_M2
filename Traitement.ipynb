{
 "cells": [
  {
   "cell_type": "markdown",
   "id": "ytlMiI8X1VlW",
   "metadata": {
    "id": "ytlMiI8X1VlW"
   },
   "source": [
    "## **Classification d'articles d'actualité financière.**\n",
    "\n",
    "\n",
    "\n",
    "## Introduction\n",
    "Il y a eu un large éventail d'applications développées au cours de la dernière décennie qui exploitent les données des médias sociaux pour divers objectifs afin d'obtenir des informations significatives.\n",
    "Les applications les plus importantes et représentatives sont liées au NLP (natural language processing) et l'analyse d'objectivité des différents articles et autres tweets dans le but de classifier des faits et des opinions.\n",
    "\n",
    "## L'objectif du projet\n",
    "Nous sommes face à une problématique de classification binaire, il s'agit en effet de créer un classifieur qui pourra déterminer sur des articles financiers, si l'auteur émet une opinion ou bien un fait avéré.\n",
    "\n",
    "Le projet a été réalisé sur le jeu de données d'articles financiers : \"opinion_fact_news.csv\" (ce dataset peut contenir des valeurs bruyantes) fourni par l'enseignant."
   ]
  },
  {
   "cell_type": "markdown",
   "id": "9bf97199",
   "metadata": {
    "id": "9bf97199"
   },
   "source": [
    "## Traitement"
   ]
  },
  {
   "cell_type": "code",
   "execution_count": null,
   "id": "1b29a8d1",
   "metadata": {
    "id": "1b29a8d1"
   },
   "outputs": [],
   "source": [
    "import pandas as pd\n",
    "import numpy as np\n",
    "import re\n",
    "import nltk\n",
    "import keras\n",
    "#nltk.download('punkt')\n",
    "from nltk.tokenize import word_tokenize\n",
    "from nltk.corpus import stopwords\n",
    "#nltk.download('stopwords')\n",
    "#nltk.download('wordnet')\n",
    "from nltk.stem import WordNetLemmatizer \n",
    "lemmatizer = WordNetLemmatizer() \n",
    "from tqdm import tqdm\n",
    "from sklearn.model_selection import train_test_split\n",
    "from sklearn.feature_extraction.text import CountVectorizer\n",
    "from sklearn.feature_extraction.text import TfidfVectorizer\n",
    "from sklearn import svm\n",
    "from sklearn.metrics import accuracy_score\n",
    "from keras.preprocessing import sequence\n",
    "from keras.models import Sequential\n",
    "from keras.layers import Dense, LSTM\n",
    "from keras.layers.embeddings import Embedding\n",
    "from tensorflow.keras.optimizers import Adam\n",
    "from tensorflow.keras.losses import BinaryCrossentropy\n",
    "from keras.preprocessing.text import Tokenizer\n",
    "from keras.preprocessing.sequence import pad_sequences\n",
    "\n",
    "import tensorflow as tf\n",
    "\n",
    "\n",
    "from keras.models import Sequential\n",
    "from keras.layers import Input, CuDNNLSTM, Dense\n",
    "from keras.layers.embeddings import Embedding\n",
    "from keras.models import Sequential\n",
    "from keras.layers import Input, CuDNNLSTM, Dense\n",
    "from keras.layers.embeddings import Embedding\n",
    "import keras.backend as K\n",
    "\n",
    "from keras.callbacks import EarlyStopping\n",
    "\n",
    "from keras.models import Sequential\n",
    "from keras.layers import Input, CuDNNLSTM, Dense, Bidirectional\n",
    "from keras.layers.embeddings import Embedding\n",
    "import keras.backend as K\n",
    "from sklearn.preprocessing import MinMaxScaler\n",
    "\n",
    "from tensorflow import keras\n",
    "from tensorflow.keras import layers"
   ]
  },
  {
   "cell_type": "markdown",
   "id": "83de95d9",
   "metadata": {
    "id": "83de95d9"
   },
   "source": [
    "## Initialisation"
   ]
  },
  {
   "cell_type": "raw",
   "id": "e0d3e230",
   "metadata": {
    "id": "e0d3e230"
   },
   "source": [
    "Lors du prétraitement (cf \"Pretraitement.ipynb\"), nous avons créé un csv avec les données modifiées. Non pas dans leur valeur/contenu mais dans leur forme pour travailler plus optimalement."
   ]
  },
  {
   "cell_type": "code",
   "execution_count": null,
   "id": "d3357dbd",
   "metadata": {
    "id": "d3357dbd"
   },
   "outputs": [],
   "source": [
    "df = pd.read_csv(\"opinion_fact_news_pretraiter.csv\")\n",
    "df = df.drop(columns=[\"Unnamed: 0\"])"
   ]
  },
  {
   "cell_type": "code",
   "execution_count": null,
   "id": "4a47c77c",
   "metadata": {
    "colab": {
     "base_uri": "https://localhost:8080/",
     "height": 202
    },
    "id": "4a47c77c",
    "outputId": "cfe09dac-3b61-4c97-95a0-aafb5ff5d3fd"
   },
   "outputs": [
    {
     "data": {
      "text/html": [
       "<div>\n",
       "<style scoped>\n",
       "    .dataframe tbody tr th:only-of-type {\n",
       "        vertical-align: middle;\n",
       "    }\n",
       "\n",
       "    .dataframe tbody tr th {\n",
       "        vertical-align: top;\n",
       "    }\n",
       "\n",
       "    .dataframe thead th {\n",
       "        text-align: right;\n",
       "    }\n",
       "</style>\n",
       "<table border=\"1\" class=\"dataframe\">\n",
       "  <thead>\n",
       "    <tr style=\"text-align: right;\">\n",
       "      <th></th>\n",
       "      <th>title</th>\n",
       "      <th>body</th>\n",
       "      <th>label</th>\n",
       "    </tr>\n",
       "  </thead>\n",
       "  <tbody>\n",
       "    <tr>\n",
       "      <th>0</th>\n",
       "      <td>bernie sander really happening</td>\n",
       "      <td>watching sander surge front pack race take pre...</td>\n",
       "      <td>opinion</td>\n",
       "    </tr>\n",
       "    <tr>\n",
       "      <th>1</th>\n",
       "      <td>london terror attack would much worse assailan...</td>\n",
       "      <td>two people stabbed sunday attack south london ...</td>\n",
       "      <td>opinion</td>\n",
       "    </tr>\n",
       "    <tr>\n",
       "      <th>2</th>\n",
       "      <td>super bowl pose question obscene sex sexism</td>\n",
       "      <td>one debate overshadowed rest whether shakira l...</td>\n",
       "      <td>opinion</td>\n",
       "    </tr>\n",
       "    <tr>\n",
       "      <th>3</th>\n",
       "      <td>health care trump malicious incompetent yes</td>\n",
       "      <td>democrat debate best path universal health cov...</td>\n",
       "      <td>opinion</td>\n",
       "    </tr>\n",
       "    <tr>\n",
       "      <th>4</th>\n",
       "      <td>ever happened head pike story trump republican</td>\n",
       "      <td>adam schiff made reference reporting said conf...</td>\n",
       "      <td>opinion</td>\n",
       "    </tr>\n",
       "  </tbody>\n",
       "</table>\n",
       "</div>"
      ],
      "text/plain": [
       "                                               title  ...    label\n",
       "0                     bernie sander really happening  ...  opinion\n",
       "1  london terror attack would much worse assailan...  ...  opinion\n",
       "2        super bowl pose question obscene sex sexism  ...  opinion\n",
       "3        health care trump malicious incompetent yes  ...  opinion\n",
       "4     ever happened head pike story trump republican  ...  opinion\n",
       "\n",
       "[5 rows x 3 columns]"
      ]
     },
     "execution_count": 5,
     "metadata": {},
     "output_type": "execute_result"
    }
   ],
   "source": [
    "df.head()"
   ]
  },
  {
   "cell_type": "code",
   "execution_count": null,
   "id": "092cbb55",
   "metadata": {
    "colab": {
     "base_uri": "https://localhost:8080/",
     "height": 172
    },
    "id": "092cbb55",
    "outputId": "0aa0fdb1-6622-4682-bbe0-804a1dd4c8d4"
   },
   "outputs": [
    {
     "data": {
      "text/html": [
       "<div>\n",
       "<style scoped>\n",
       "    .dataframe tbody tr th:only-of-type {\n",
       "        vertical-align: middle;\n",
       "    }\n",
       "\n",
       "    .dataframe tbody tr th {\n",
       "        vertical-align: top;\n",
       "    }\n",
       "\n",
       "    .dataframe thead th {\n",
       "        text-align: right;\n",
       "    }\n",
       "</style>\n",
       "<table border=\"1\" class=\"dataframe\">\n",
       "  <thead>\n",
       "    <tr style=\"text-align: right;\">\n",
       "      <th></th>\n",
       "      <th>title</th>\n",
       "      <th>body</th>\n",
       "      <th>label</th>\n",
       "    </tr>\n",
       "  </thead>\n",
       "  <tbody>\n",
       "    <tr>\n",
       "      <th>count</th>\n",
       "      <td>10000</td>\n",
       "      <td>10000</td>\n",
       "      <td>10000</td>\n",
       "    </tr>\n",
       "    <tr>\n",
       "      <th>unique</th>\n",
       "      <td>8005</td>\n",
       "      <td>9856</td>\n",
       "      <td>2</td>\n",
       "    </tr>\n",
       "    <tr>\n",
       "      <th>top</th>\n",
       "      <td>factbox latest coronavirus spreading china beyond</td>\n",
       "      <td>need know understand moment mean us-iran relat...</td>\n",
       "      <td>fact</td>\n",
       "    </tr>\n",
       "    <tr>\n",
       "      <th>freq</th>\n",
       "      <td>16</td>\n",
       "      <td>3</td>\n",
       "      <td>5000</td>\n",
       "    </tr>\n",
       "  </tbody>\n",
       "</table>\n",
       "</div>"
      ],
      "text/plain": [
       "                                                    title  ...  label\n",
       "count                                               10000  ...  10000\n",
       "unique                                               8005  ...      2\n",
       "top     factbox latest coronavirus spreading china beyond  ...   fact\n",
       "freq                                                   16  ...   5000\n",
       "\n",
       "[4 rows x 3 columns]"
      ]
     },
     "execution_count": 6,
     "metadata": {},
     "output_type": "execute_result"
    }
   ],
   "source": [
    "df.describe()"
   ]
  },
  {
   "cell_type": "code",
   "execution_count": null,
   "id": "911386a3",
   "metadata": {
    "colab": {
     "base_uri": "https://localhost:8080/"
    },
    "id": "911386a3",
    "outputId": "577d6a25-64b6-4d77-8d96-642c85058f50"
   },
   "outputs": [
    {
     "name": "stdout",
     "output_type": "stream",
     "text": [
      "<class 'pandas.core.frame.DataFrame'>\n",
      "RangeIndex: 10000 entries, 0 to 9999\n",
      "Data columns (total 3 columns):\n",
      " #   Column  Non-Null Count  Dtype \n",
      "---  ------  --------------  ----- \n",
      " 0   title   10000 non-null  object\n",
      " 1   body    10000 non-null  object\n",
      " 2   label   10000 non-null  object\n",
      "dtypes: object(3)\n",
      "memory usage: 234.5+ KB\n"
     ]
    }
   ],
   "source": [
    "df.info(verbose=True)"
   ]
  },
  {
   "cell_type": "code",
   "execution_count": null,
   "id": "1b850a16",
   "metadata": {
    "colab": {
     "base_uri": "https://localhost:8080/"
    },
    "id": "1b850a16",
    "outputId": "aa28ac68-de8d-40e0-ab49-dfb63716ea50"
   },
   "outputs": [
    {
     "data": {
      "text/plain": [
       "fact       5000\n",
       "opinion    5000\n",
       "Name: label, dtype: int64"
      ]
     },
     "execution_count": 8,
     "metadata": {},
     "output_type": "execute_result"
    }
   ],
   "source": [
    "df['label'].value_counts()"
   ]
  },
  {
   "cell_type": "raw",
   "id": "a5711b67",
   "metadata": {
    "id": "a5711b67"
   },
   "source": [
    "Ces petites cellules nous permemettent de s'assurer que le prétraitement n'a pas modifié la forme du dataset : nous avons toujours 10 000 lignes, moitié facts et moitié opinions et les mêmes colonnes."
   ]
  },
  {
   "cell_type": "markdown",
   "id": "e4e88a1c",
   "metadata": {
    "id": "e4e88a1c"
   },
   "source": [
    "## Début du traitement"
   ]
  },
  {
   "cell_type": "markdown",
   "id": "52185555",
   "metadata": {
    "id": "52185555"
   },
   "source": [
    "### Changement des valeurs dans 'label'"
   ]
  },
  {
   "cell_type": "raw",
   "id": "2e4f3c4c",
   "metadata": {
    "id": "2e4f3c4c"
   },
   "source": [
    "On décide de changer les valeurs dans la colonne 'label', contenant soit 'opinion' soit 'fact'.\n",
    "On remplace le premier par 0 et le second par 1, cela nous permettra de classifier nos données."
   ]
  },
  {
   "cell_type": "code",
   "execution_count": null,
   "id": "2c737b6b",
   "metadata": {
    "colab": {
     "base_uri": "https://localhost:8080/",
     "height": 110
    },
    "id": "2c737b6b",
    "outputId": "da2be4eb-5a21-407d-f535-755a0e78756a"
   },
   "outputs": [
    {
     "data": {
      "text/html": [
       "<div>\n",
       "<style scoped>\n",
       "    .dataframe tbody tr th:only-of-type {\n",
       "        vertical-align: middle;\n",
       "    }\n",
       "\n",
       "    .dataframe tbody tr th {\n",
       "        vertical-align: top;\n",
       "    }\n",
       "\n",
       "    .dataframe thead th {\n",
       "        text-align: right;\n",
       "    }\n",
       "</style>\n",
       "<table border=\"1\" class=\"dataframe\">\n",
       "  <thead>\n",
       "    <tr style=\"text-align: right;\">\n",
       "      <th></th>\n",
       "      <th>title</th>\n",
       "      <th>body</th>\n",
       "      <th>label</th>\n",
       "    </tr>\n",
       "  </thead>\n",
       "  <tbody>\n",
       "    <tr>\n",
       "      <th>0</th>\n",
       "      <td>bernie sander really happening</td>\n",
       "      <td>watching sander surge front pack race take pre...</td>\n",
       "      <td>0</td>\n",
       "    </tr>\n",
       "    <tr>\n",
       "      <th>1</th>\n",
       "      <td>london terror attack would much worse assailan...</td>\n",
       "      <td>two people stabbed sunday attack south london ...</td>\n",
       "      <td>0</td>\n",
       "    </tr>\n",
       "  </tbody>\n",
       "</table>\n",
       "</div>"
      ],
      "text/plain": [
       "                                               title  ... label\n",
       "0                     bernie sander really happening  ...     0\n",
       "1  london terror attack would much worse assailan...  ...     0\n",
       "\n",
       "[2 rows x 3 columns]"
      ]
     },
     "execution_count": 9,
     "metadata": {},
     "output_type": "execute_result"
    }
   ],
   "source": [
    "df.loc[df.label == \"opinion\",\"label\"] = 0\n",
    "df.loc[df.label == \"fact\",\"label\"] = 1\n",
    "df.head(2)"
   ]
  },
  {
   "cell_type": "code",
   "execution_count": null,
   "id": "2a830146",
   "metadata": {
    "colab": {
     "base_uri": "https://localhost:8080/",
     "height": 110
    },
    "id": "2a830146",
    "outputId": "d679cac3-af5c-471a-e3af-7c5679f86f8e"
   },
   "outputs": [
    {
     "data": {
      "text/html": [
       "<div>\n",
       "<style scoped>\n",
       "    .dataframe tbody tr th:only-of-type {\n",
       "        vertical-align: middle;\n",
       "    }\n",
       "\n",
       "    .dataframe tbody tr th {\n",
       "        vertical-align: top;\n",
       "    }\n",
       "\n",
       "    .dataframe thead th {\n",
       "        text-align: right;\n",
       "    }\n",
       "</style>\n",
       "<table border=\"1\" class=\"dataframe\">\n",
       "  <thead>\n",
       "    <tr style=\"text-align: right;\">\n",
       "      <th></th>\n",
       "      <th>title</th>\n",
       "      <th>body</th>\n",
       "      <th>label</th>\n",
       "    </tr>\n",
       "  </thead>\n",
       "  <tbody>\n",
       "    <tr>\n",
       "      <th>9998</th>\n",
       "      <td>novartis predicts growth cosentyx zolgensma ad...</td>\n",
       "      <td>file photo company logo seen new cell gene the...</td>\n",
       "      <td>1</td>\n",
       "    </tr>\n",
       "    <tr>\n",
       "      <th>9999</th>\n",
       "      <td>russian order watchdog draw plan prevent virus...</td>\n",
       "      <td>file photo russian prime minister mikhail mish...</td>\n",
       "      <td>1</td>\n",
       "    </tr>\n",
       "  </tbody>\n",
       "</table>\n",
       "</div>"
      ],
      "text/plain": [
       "                                                  title  ... label\n",
       "9998  novartis predicts growth cosentyx zolgensma ad...  ...     1\n",
       "9999  russian order watchdog draw plan prevent virus...  ...     1\n",
       "\n",
       "[2 rows x 3 columns]"
      ]
     },
     "execution_count": 10,
     "metadata": {},
     "output_type": "execute_result"
    }
   ],
   "source": [
    "df.tail(2)"
   ]
  },
  {
   "cell_type": "markdown",
   "id": "4ce063cc",
   "metadata": {
    "id": "4ce063cc"
   },
   "source": [
    "### Séparation des données en 3 sets (train, test, dev)"
   ]
  },
  {
   "cell_type": "raw",
   "id": "aabe8838",
   "metadata": {
    "id": "aabe8838"
   },
   "source": [
    "On va split nos données comme en TP, donc 80% pour le train, 10% pour le test et 10% également pour le dev.\n",
    "Pour cela, on sépare les données qui vont nous servir à prédire ('titre' et 'body') de celles que l'on veut prédire ('label').\n",
    "Y prendra donc les données à prédire et X celles nous permettant de le faire."
   ]
  },
  {
   "cell_type": "code",
   "execution_count": null,
   "id": "981271e1",
   "metadata": {
    "id": "981271e1"
   },
   "outputs": [],
   "source": [
    "features = df.columns[:2]\n",
    "X = df[features]\n",
    "Y = df['label']\n",
    "Y = Y.astype('int')"
   ]
  },
  {
   "cell_type": "code",
   "execution_count": null,
   "id": "f58c4bd9",
   "metadata": {
    "id": "f58c4bd9"
   },
   "outputs": [],
   "source": [
    "X_train, X_test, Y_train, Y_test = train_test_split(X, Y, test_size=0.2,random_state=8, stratify= Y)"
   ]
  },
  {
   "cell_type": "code",
   "execution_count": null,
   "id": "4ece6c72",
   "metadata": {
    "colab": {
     "base_uri": "https://localhost:8080/"
    },
    "id": "4ece6c72",
    "outputId": "47da319c-b2a4-4c17-eb45-5fa5bee0ea3b"
   },
   "outputs": [
    {
     "name": "stdout",
     "output_type": "stream",
     "text": [
      "Taille de notre set de train :\n",
      "X : 8000 // Y : 8000\n",
      "\n",
      "Taille de notre set de test :\n",
      "X : 2000 // Y : 2000\n"
     ]
    }
   ],
   "source": [
    "print(\"Taille de notre set de train :\")\n",
    "print(\"X :\",len(X_train),\"// Y :\",len(Y_train))\n",
    "print(\"\\nTaille de notre set de test :\")\n",
    "print(\"X :\",len(X_test),\"// Y :\",len(Y_test))"
   ]
  },
  {
   "cell_type": "code",
   "execution_count": null,
   "id": "01f4645c",
   "metadata": {
    "id": "01f4645c"
   },
   "outputs": [],
   "source": [
    "X_temp = X_test\n",
    "Y_temp = Y_test\n",
    "X_test, X_dev, Y_test, Y_dev = train_test_split(X_temp, Y_temp, test_size=0.5)"
   ]
  },
  {
   "cell_type": "code",
   "execution_count": null,
   "id": "440cc83b",
   "metadata": {
    "colab": {
     "base_uri": "https://localhost:8080/"
    },
    "id": "440cc83b",
    "outputId": "3aaefa98-cc0a-4294-f457-9b7c97eef34e"
   },
   "outputs": [
    {
     "name": "stdout",
     "output_type": "stream",
     "text": [
      "Taille de notre set de test :\n",
      "X : 1000 // Y : 1000\n",
      "\n",
      "Taille de notre set de dev :\n",
      "X : 1000 // Y : 1000\n"
     ]
    }
   ],
   "source": [
    "print(\"Taille de notre set de test :\")\n",
    "print(\"X :\",len(X_test),\"// Y :\",len(Y_test))\n",
    "print(\"\\nTaille de notre set de dev :\")\n",
    "print(\"X :\",len(X_dev),\"// Y :\",len(Y_dev))"
   ]
  },
  {
   "cell_type": "markdown",
   "id": "16c8c64a",
   "metadata": {
    "id": "16c8c64a"
   },
   "source": [
    "### Mise en vecteurs des données"
   ]
  },
  {
   "cell_type": "raw",
   "id": "04fe6ccb",
   "metadata": {
    "id": "hybrid-grass"
   },
   "source": [
    "La prochaine chose que nous devons faire après le prétraitement des données est de convertir les données en un langage compréhensible par la machine, c'est-à-dire des nombres. Pour cela, nous devons mapper chaque mot des données à une valeur numérique. Nous pouvons le faire de plusieurs manières."
   ]
  },
  {
   "cell_type": "markdown",
   "id": "cultural-wagner",
   "metadata": {
    "id": "cultural-wagner"
   },
   "source": [
    "#### Bag of Words (BOW ) embedding"
   ]
  },
  {
   "cell_type": "code",
   "execution_count": null,
   "id": "7bf226b0",
   "metadata": {
    "colab": {
     "base_uri": "https://localhost:8080/"
    },
    "id": "7bf226b0",
    "outputId": "29c87487-44cc-4190-d3ca-9803548a6ec1"
   },
   "outputs": [
    {
     "name": "stdout",
     "output_type": "stream",
     "text": [
      "Données de train en vecteur : (8000, 2000)\n"
     ]
    }
   ],
   "source": [
    "import scipy.sparse as sp\n",
    "vect = CountVectorizer(ngram_range=(1, 2),analyzer='word', max_features=1000, stop_words='english')\n",
    "X_train_bow = sp.hstack(X_train.apply(lambda col: vect.fit_transform(col)))\n",
    "X_train_bow = X_train_bow.toarray()\n",
    "print(\"Données de train en vecteur :\",X_train_bow.shape)"
   ]
  },
  {
   "cell_type": "code",
   "execution_count": null,
   "id": "03ad7883",
   "metadata": {
    "colab": {
     "base_uri": "https://localhost:8080/"
    },
    "id": "03ad7883",
    "outputId": "3c33162e-2329-4d6f-a206-e81d1d37f770"
   },
   "outputs": [
    {
     "name": "stdout",
     "output_type": "stream",
     "text": [
      "Données de test en vecteur : (1000, 2000)\n"
     ]
    }
   ],
   "source": [
    "X_test_bow = sp.hstack(X_test.apply(lambda col: vect.transform(col)))\n",
    "X_test_bow = X_test_bow.toarray()\n",
    "print(\"Données de test en vecteur :\",X_test_bow.shape)"
   ]
  },
  {
   "cell_type": "code",
   "execution_count": null,
   "id": "fba0c1cd",
   "metadata": {
    "colab": {
     "base_uri": "https://localhost:8080/"
    },
    "id": "fba0c1cd",
    "outputId": "32a08e68-405d-4401-82f7-dba81a5543dc"
   },
   "outputs": [
    {
     "name": "stdout",
     "output_type": "stream",
     "text": [
      "Données de dev en vecteur : (1000, 2000)\n"
     ]
    }
   ],
   "source": [
    "X_dev_bow = sp.hstack(X_dev.apply(lambda col: vect.transform(col)))\n",
    "X_dev_bow = X_dev_bow.toarray()\n",
    "print(\"Données de dev en vecteur :\",X_dev_bow.shape)"
   ]
  },
  {
   "cell_type": "markdown",
   "id": "middle-orientation",
   "metadata": {
    "id": "middle-orientation"
   },
   "source": [
    "#### Term Frequency-Inverse Document Frequency (TF-IDF) Embedding"
   ]
  },
  {
   "cell_type": "code",
   "execution_count": null,
   "id": "backed-command",
   "metadata": {
    "id": "backed-command"
   },
   "outputs": [],
   "source": [
    "vect = TfidfVectorizer(max_features=1000)"
   ]
  },
  {
   "cell_type": "code",
   "execution_count": null,
   "id": "greatest-bidding",
   "metadata": {
    "colab": {
     "base_uri": "https://localhost:8080/"
    },
    "id": "greatest-bidding",
    "outputId": "8ca431bc-bf2e-409b-f8e4-d8bb57d2d50d"
   },
   "outputs": [
    {
     "name": "stdout",
     "output_type": "stream",
     "text": [
      "Données de train en vecteur : (8000, 2000)\n"
     ]
    }
   ],
   "source": [
    "X_train_tfidf = sp.hstack(X_train.apply(lambda col: vect.fit_transform(col)))\n",
    "print(\"Données de train en vecteur :\",X_train_tfidf.shape)"
   ]
  },
  {
   "cell_type": "code",
   "execution_count": null,
   "id": "juvenile-binary",
   "metadata": {
    "colab": {
     "base_uri": "https://localhost:8080/"
    },
    "id": "juvenile-binary",
    "outputId": "ddde5bd0-2553-49b6-80d7-f81df0c3cfd9"
   },
   "outputs": [
    {
     "name": "stdout",
     "output_type": "stream",
     "text": [
      "Données de test en vecteur : (1000, 2000)\n"
     ]
    }
   ],
   "source": [
    "X_test_tfidf = sp.hstack(X_test.apply(lambda col: vect.transform(col)))\n",
    "print(\"Données de test en vecteur :\",X_test_tfidf.shape)"
   ]
  },
  {
   "cell_type": "code",
   "execution_count": null,
   "id": "contained-punch",
   "metadata": {
    "colab": {
     "base_uri": "https://localhost:8080/"
    },
    "id": "contained-punch",
    "outputId": "2c4d86a7-61fd-4115-91a1-f96dad714ff4"
   },
   "outputs": [
    {
     "name": "stdout",
     "output_type": "stream",
     "text": [
      "Données de dev en vecteur : (1000, 2000)\n"
     ]
    }
   ],
   "source": [
    "X_dev_tfidf = sp.hstack(X_dev.apply(lambda col: vect.transform(col)))\n",
    "print(\"Données de dev en vecteur :\",X_dev_tfidf.shape)"
   ]
  },
  {
   "cell_type": "markdown",
   "id": "p4SVgZo9baXY",
   "metadata": {
    "id": "p4SVgZo9baXY"
   },
   "source": [
    "Pour chaque words embeding, nous allons utiliser les algorithmes d'apprentissage automatique suivants :\n",
    "  - SVM\n",
    "  - KNN"
   ]
  },
  {
   "cell_type": "markdown",
   "id": "hqXmsaYRbb4y",
   "metadata": {
    "id": "hqXmsaYRbb4y"
   },
   "source": [
    "### SVM - Support Vector Classification"
   ]
  },
  {
   "cell_type": "markdown",
   "id": "BxAKXTF6befj",
   "metadata": {
    "id": "BxAKXTF6befj"
   },
   "source": [
    "SVM donne l'hyperplan qui sépare le mieux les données. Il dessine la marge maximale de l'hyper plan entre deux classes (ici \"Fait\" et \"Opinion\").\n",
    "Nous avons utilisé Grid Search cv pour déterminer les valeurs optimales des hyperparamètres populaires dans SVM qui sont le noyau et « C » (paramètre de régularisation)."
   ]
  },
  {
   "cell_type": "code",
   "execution_count": null,
   "id": "iNoxRjGobiIP",
   "metadata": {
    "id": "iNoxRjGobiIP"
   },
   "outputs": [],
   "source": [
    "from sklearn.model_selection import GridSearchCV"
   ]
  },
  {
   "cell_type": "markdown",
   "id": "-2H5GB-YbmEp",
   "metadata": {
    "id": "-2H5GB-YbmEp"
   },
   "source": [
    "#### Recherche hyperparamètre BoW"
   ]
  },
  {
   "cell_type": "code",
   "execution_count": null,
   "id": "55aA5zZ3bpkw",
   "metadata": {
    "colab": {
     "base_uri": "https://localhost:8080/"
    },
    "id": "55aA5zZ3bpkw",
    "outputId": "83ecd92f-1afe-4939-b268-cbc19a88ffcc"
   },
   "outputs": [
    {
     "data": {
      "text/plain": [
       "GridSearchCV(estimator=SVC(),\n",
       "             param_grid={'C': [0.0001, 0.001, 0.01, 0.1, 1, 10],\n",
       "                         'kernel': ('linear', 'rbf', 'poly', 'sigmoid')})"
      ]
     },
     "execution_count": 24,
     "metadata": {},
     "output_type": "execute_result"
    }
   ],
   "source": [
    "parameters = {'kernel':('linear', 'rbf','poly','sigmoid'), 'C':[0.0001, 0.001, 0.01, 0.1, 1, 10]}\n",
    "svc = svm.SVC()\n",
    "clf = GridSearchCV(svc, parameters)\n",
    "clf_result = clf.fit(X_dev_bow, Y_dev)\n",
    "GridSearchCV(estimator=svc,\n",
    "             param_grid={'C': parameters['C'], 'kernel': parameters['kernel']})"
   ]
  },
  {
   "cell_type": "code",
   "execution_count": null,
   "id": "k76Xh6NubxLk",
   "metadata": {
    "colab": {
     "base_uri": "https://localhost:8080/"
    },
    "id": "k76Xh6NubxLk",
    "outputId": "6686094d-1105-4e4b-eeba-fd6201714f36"
   },
   "outputs": [
    {
     "name": "stdout",
     "output_type": "stream",
     "text": [
      "{'C': 0.1, 'kernel': 'linear'}\n"
     ]
    }
   ],
   "source": [
    "print(clf.best_params_)"
   ]
  },
  {
   "cell_type": "code",
   "execution_count": null,
   "id": "9EAHVzzUbz4D",
   "metadata": {
    "colab": {
     "base_uri": "https://localhost:8080/"
    },
    "id": "9EAHVzzUbz4D",
    "outputId": "db8537df-a16f-49e0-b4a1-15f02bd697a0"
   },
   "outputs": [
    {
     "name": "stdout",
     "output_type": "stream",
     "text": [
      "Param : linear 0.0001 | Score : 0.8230000000000001\n",
      "Param : rbf 0.0001 | Score : 0.517\n",
      "Param : poly 0.0001 | Score : 0.517\n",
      "Param : sigmoid 0.0001 | Score : 0.517\n",
      "Param : linear 0.001 | Score : 0.9550000000000001\n",
      "Param : rbf 0.001 | Score : 0.517\n",
      "Param : poly 0.001 | Score : 0.517\n",
      "Param : sigmoid 0.001 | Score : 0.517\n",
      "Param : linear 0.01 | Score : 0.9709999999999999\n",
      "Param : rbf 0.01 | Score : 0.517\n",
      "Param : poly 0.01 | Score : 0.525\n",
      "Param : sigmoid 0.01 | Score : 0.584\n",
      "Param : linear 0.1 | Score : 0.9829999999999999\n",
      "Param : rbf 0.1 | Score : 0.833\n",
      "Param : poly 0.1 | Score : 0.617\n",
      "Param : sigmoid 0.1 | Score : 0.8620000000000001\n",
      "Param : linear 1 | Score : 0.9819999999999999\n",
      "Param : rbf 1 | Score : 0.958\n",
      "Param : poly 1 | Score : 0.707\n",
      "Param : sigmoid 1 | Score : 0.967\n",
      "Param : linear 10 | Score : 0.9819999999999999\n",
      "Param : rbf 10 | Score : 0.975\n",
      "Param : poly 10 | Score : 0.767\n",
      "Param : sigmoid 10 | Score : 0.937\n"
     ]
    }
   ],
   "source": [
    "for score, param_kernel, param_c in zip(clf.cv_results_['mean_test_score'], clf.cv_results_['param_kernel'], clf.cv_results_['param_C']) :\n",
    "  print(\"Param : \" + str(param_kernel) + \" \" + str(param_c) + \" | Score : \" + str(score));"
   ]
  },
  {
   "cell_type": "code",
   "execution_count": null,
   "id": "RKKonzBZb0fv",
   "metadata": {
    "id": "RKKonzBZb0fv"
   },
   "outputs": [],
   "source": [
    "results = pd.DataFrame(clf.cv_results_)"
   ]
  },
  {
   "cell_type": "code",
   "execution_count": null,
   "id": "MT1TG5mob5ZM",
   "metadata": {
    "id": "MT1TG5mob5ZM"
   },
   "outputs": [],
   "source": [
    "import seaborn as sns\n",
    "import matplotlib.pyplot as plt "
   ]
  },
  {
   "cell_type": "code",
   "execution_count": null,
   "id": "ru0wOWHR-mgO",
   "metadata": {
    "id": "ru0wOWHR-mgO"
   },
   "outputs": [],
   "source": [
    "d = {0.0001: 1, 0.001: 2, 0.01:3, 0.1:4, 1:5, 10:6}\n",
    "results['param_C'].replace(d,inplace=True)"
   ]
  },
  {
   "cell_type": "code",
   "execution_count": null,
   "id": "2fBzbBGXb7AK",
   "metadata": {
    "colab": {
     "base_uri": "https://localhost:8080/",
     "height": 282
    },
    "id": "2fBzbBGXb7AK",
    "outputId": "fa090ab3-fdc3-4a1a-82e3-00186154cd77"
   },
   "outputs": [
    {
     "data": {
      "image/png": "[encoded data removed]",
      "text/plain": [
       "<Figure size 432x288 with 1 Axes>"
      ]
     },
     "metadata": {
      "needs_background": "light"
     },
     "output_type": "display_data"
    }
   ],
   "source": [
    "plt.xticks(range(1,len(parameters['C'])+1), parameters['C'])\n",
    "sns.lineplot(data=results, x='param_C', y=\"mean_test_score\", hue=\"param_kernel\", marker='o')\n",
    "plt.show()"
   ]
  },
  {
   "cell_type": "markdown",
   "id": "OBYlIaN2cD0s",
   "metadata": {
    "id": "OBYlIaN2cD0s"
   },
   "source": [
    "#### Prédiction SVM - BoW"
   ]
  },
  {
   "cell_type": "code",
   "execution_count": null,
   "id": "jzueVfJccIGi",
   "metadata": {
    "colab": {
     "base_uri": "https://localhost:8080/"
    },
    "id": "jzueVfJccIGi",
    "outputId": "042d3046-2918-495b-855b-3187b4a15194"
   },
   "outputs": [
    {
     "data": {
      "text/plain": [
       "SVC(C=0.1, kernel='linear')"
      ]
     },
     "execution_count": 77,
     "metadata": {},
     "output_type": "execute_result"
    }
   ],
   "source": [
    "clf = svm.SVC(C=0.1, kernel='linear')\n",
    "clf.fit(X_train_bow, Y_train)"
   ]
  },
  {
   "cell_type": "code",
   "execution_count": null,
   "id": "Nv0P4NsUcJmK",
   "metadata": {
    "id": "Nv0P4NsUcJmK"
   },
   "outputs": [],
   "source": [
    "Y_predict_bow = clf.predict(X_test_bow)"
   ]
  },
  {
   "cell_type": "code",
   "execution_count": null,
   "id": "XsDLccB-cLmg",
   "metadata": {
    "colab": {
     "base_uri": "https://localhost:8080/"
    },
    "id": "XsDLccB-cLmg",
    "outputId": "91c28c30-5054-4a4a-958c-32890918c71b"
   },
   "outputs": [
    {
     "data": {
      "text/plain": [
       "0.993"
      ]
     },
     "execution_count": 79,
     "metadata": {},
     "output_type": "execute_result"
    }
   ],
   "source": [
    "accuracy_score(Y_test,Y_predict_bow)"
   ]
  },
  {
   "cell_type": "markdown",
   "id": "cOfvJlWCcQhl",
   "metadata": {
    "id": "cOfvJlWCcQhl"
   },
   "source": [
    "#### Hyperparamètre TF-IDF"
   ]
  },
  {
   "cell_type": "code",
   "execution_count": null,
   "id": "_aqTOpCJcTSk",
   "metadata": {
    "colab": {
     "base_uri": "https://localhost:8080/"
    },
    "id": "_aqTOpCJcTSk",
    "outputId": "cdfc2e3f-f1ce-47ab-8eb2-2d2deb72840a"
   },
   "outputs": [
    {
     "data": {
      "text/plain": [
       "GridSearchCV(estimator=SVC(),\n",
       "             param_grid={'C': [0.0001, 0.001, 0.01, 0.1, 1, 10],\n",
       "                         'kernel': ('linear', 'rbf', 'poly', 'sigmoid')})"
      ]
     },
     "execution_count": 81,
     "metadata": {},
     "output_type": "execute_result"
    }
   ],
   "source": [
    "parameters = {'kernel':('linear', 'rbf','poly','sigmoid'), 'C':[0.0001, 0.001, 0.01, 0.1, 1, 10]}\n",
    "svc = svm.SVC()\n",
    "clf = GridSearchCV(svc, parameters)\n",
    "clf_result = clf.fit(X_dev_tfidf, Y_dev)\n",
    "GridSearchCV(estimator=svc,\n",
    "             param_grid={'C': parameters['C'], 'kernel': parameters['kernel']})"
   ]
  },
  {
   "cell_type": "code",
   "execution_count": null,
   "id": "NnPISuIYcYCr",
   "metadata": {
    "colab": {
     "base_uri": "https://localhost:8080/"
    },
    "id": "NnPISuIYcYCr",
    "outputId": "0de39875-4845-44a2-921a-644e55b8768e"
   },
   "outputs": [
    {
     "name": "stdout",
     "output_type": "stream",
     "text": [
      "Param : linear 0.0001 | Score : 0.517\n",
      "Param : rbf 0.0001 | Score : 0.517\n",
      "Param : poly 0.0001 | Score : 0.517\n",
      "Param : sigmoid 0.0001 | Score : 0.517\n",
      "Param : linear 0.001 | Score : 0.517\n",
      "Param : rbf 0.001 | Score : 0.517\n",
      "Param : poly 0.001 | Score : 0.517\n",
      "Param : sigmoid 0.001 | Score : 0.517\n",
      "Param : linear 0.01 | Score : 0.534\n",
      "Param : rbf 0.01 | Score : 0.517\n",
      "Param : poly 0.01 | Score : 0.517\n",
      "Param : sigmoid 0.01 | Score : 0.517\n",
      "Param : linear 0.1 | Score : 0.961\n",
      "Param : rbf 0.1 | Score : 0.8530000000000001\n",
      "Param : poly 0.1 | Score : 0.517\n",
      "Param : sigmoid 0.1 | Score : 0.9470000000000001\n",
      "Param : linear 1 | Score : 0.986\n",
      "Param : rbf 1 | Score : 0.982\n",
      "Param : poly 1 | Score : 0.9270000000000002\n",
      "Param : sigmoid 1 | Score : 0.984\n",
      "Param : linear 10 | Score : 0.985\n",
      "Param : rbf 10 | Score : 0.985\n",
      "Param : poly 10 | Score : 0.875\n",
      "Param : sigmoid 10 | Score : 0.9739999999999999\n"
     ]
    }
   ],
   "source": [
    "for score, param_kernel, param_c in zip(clf.cv_results_['mean_test_score'], clf.cv_results_['param_kernel'], clf.cv_results_['param_C']) :\n",
    "  print(\"Param : \" + str(param_kernel) + \" \" + str(param_c) + \" | Score : \" + str(score));"
   ]
  },
  {
   "cell_type": "code",
   "execution_count": null,
   "id": "eH8IatXtcWvn",
   "metadata": {
    "colab": {
     "base_uri": "https://localhost:8080/"
    },
    "id": "eH8IatXtcWvn",
    "outputId": "ed578a86-b13e-463d-ff1a-5ad15949750c"
   },
   "outputs": [
    {
     "name": "stdout",
     "output_type": "stream",
     "text": [
      "{'C': 1, 'kernel': 'linear'}\n"
     ]
    }
   ],
   "source": [
    "print(clf.best_params_)"
   ]
  },
  {
   "cell_type": "code",
   "execution_count": null,
   "id": "keHKpzxLDHtQ",
   "metadata": {
    "colab": {
     "base_uri": "https://localhost:8080/",
     "height": 280
    },
    "id": "keHKpzxLDHtQ",
    "outputId": "d2ae2807-b954-451d-b464-d1f35d4bbfe5"
   },
   "outputs": [
    {
     "data": {
      "image/png": "[encoded data removed]",
      "text/plain": [
       "<Figure size 432x288 with 1 Axes>"
      ]
     },
     "metadata": {
      "needs_background": "light"
     },
     "output_type": "display_data"
    }
   ],
   "source": [
    "results = pd.DataFrame(clf.cv_results_)\n",
    "d = {0.0001: 1, 0.001: 2, 0.01:3, 0.1:4, 1:5, 10:6}\n",
    "results['param_C'].replace(d,inplace=True)\n",
    "plt.xticks(range(1,len(parameters['C'])+1), parameters['C'])\n",
    "sns.lineplot(data=results, x='param_C', y=\"mean_test_score\", hue=\"param_kernel\", marker='o')\n",
    "plt.show()"
   ]
  },
  {
   "cell_type": "markdown",
   "id": "t599sjQoccV_",
   "metadata": {
    "id": "t599sjQoccV_"
   },
   "source": [
    "En utilisant, le word embeding TF-IDF, les meilleurs paramètres pour le SVC sont un noyau lineaire et C = 1."
   ]
  },
  {
   "cell_type": "markdown",
   "id": "27cxcnQUci4x",
   "metadata": {
    "id": "27cxcnQUci4x"
   },
   "source": [
    "#### Prédiction SVM - TF-IDF"
   ]
  },
  {
   "cell_type": "code",
   "execution_count": null,
   "id": "_bOyYxzWckzf",
   "metadata": {
    "colab": {
     "base_uri": "https://localhost:8080/"
    },
    "id": "_bOyYxzWckzf",
    "outputId": "8d3fc53e-03b0-41c1-c202-855e24afe2ec"
   },
   "outputs": [
    {
     "data": {
      "text/plain": [
       "SVC(C=1, kernel='linear')"
      ]
     },
     "execution_count": 85,
     "metadata": {},
     "output_type": "execute_result"
    }
   ],
   "source": [
    "clf = svm.SVC(kernel='linear',C=1)\n",
    "clf.fit(X_train_tfidf, Y_train)"
   ]
  },
  {
   "cell_type": "code",
   "execution_count": null,
   "id": "gTfEXku2cmgM",
   "metadata": {
    "id": "gTfEXku2cmgM"
   },
   "outputs": [],
   "source": [
    "Y_predict_tfidf = clf.predict(X_test_tfidf)"
   ]
  },
  {
   "cell_type": "code",
   "execution_count": null,
   "id": "3FycfKq9cn0o",
   "metadata": {
    "colab": {
     "base_uri": "https://localhost:8080/"
    },
    "id": "3FycfKq9cn0o",
    "outputId": "0bb86d68-f2cf-45e6-cfb0-11a5562c6bc2"
   },
   "outputs": [
    {
     "data": {
      "text/plain": [
       "0.988"
      ]
     },
     "execution_count": 87,
     "metadata": {},
     "output_type": "execute_result"
    }
   ],
   "source": [
    "accuracy_score(Y_test,Y_predict_tfidf)"
   ]
  },
  {
   "cell_type": "markdown",
   "id": "PO_Gm80IF-Jr",
   "metadata": {
    "id": "PO_Gm80IF-Jr"
   },
   "source": [
    "### KNN - k plus proches voisins"
   ]
  },
  {
   "cell_type": "code",
   "execution_count": null,
   "id": "9aEhJgazHm1J",
   "metadata": {
    "id": "9aEhJgazHm1J"
   },
   "outputs": [],
   "source": [
    "from sklearn.neighbors import KNeighborsClassifier\n",
    "from sklearn.metrics import classification_report\n",
    "from sklearn.metrics import recall_score\n",
    "from sklearn.metrics import precision_score\n",
    "from sklearn.metrics import f1_score"
   ]
  },
  {
   "cell_type": "markdown",
   "id": "oFJvKjHvcJv-",
   "metadata": {
    "id": "oFJvKjHvcJv-"
   },
   "source": [
    "#### Avec Bow : "
   ]
  },
  {
   "cell_type": "code",
   "execution_count": null,
   "id": "ZUoXcYRWGPOk",
   "metadata": {
    "colab": {
     "base_uri": "https://localhost:8080/"
    },
    "id": "ZUoXcYRWGPOk",
    "outputId": "1b63bc23-b8e5-484c-e9a6-af33f114c450"
   },
   "outputs": [
    {
     "data": {
      "text/plain": [
       "GridSearchCV(estimator=KNeighborsClassifier(),\n",
       "             param_grid={'n_neighbors': [1, 2, 3, 4, 5, 6, 7, 8, 9]})"
      ]
     },
     "execution_count": 143,
     "metadata": {},
     "output_type": "execute_result"
    }
   ],
   "source": [
    "parameters = {'n_neighbors': [1,2,3,4,5,6,7,8,9]}\n",
    "clf = GridSearchCV(KNeighborsClassifier(), parameters, scoring=\"accuracy\")\n",
    "clf_result = clf.fit(X_train_bow, Y_train)\n",
    "GridSearchCV(estimator=KNeighborsClassifier(),\n",
    "             param_grid={'n_neighbors':parameters['n_neighbors']})"
   ]
  },
  {
   "cell_type": "code",
   "execution_count": null,
   "id": "K41qX6IpNbSi",
   "metadata": {
    "colab": {
     "base_uri": "https://localhost:8080/"
    },
    "id": "K41qX6IpNbSi",
    "outputId": "404269b2-5741-4932-ef32-0ee7cf3be223"
   },
   "outputs": [
    {
     "name": "stdout",
     "output_type": "stream",
     "text": [
      "Param : 1 | Score : 0.939875\n",
      "Param : 2 | Score : 0.937375\n",
      "Param : 3 | Score : 0.9397499999999999\n",
      "Param : 4 | Score : 0.944\n",
      "Param : 5 | Score : 0.9372499999999999\n",
      "Param : 6 | Score : 0.9470000000000001\n",
      "Param : 7 | Score : 0.93025\n",
      "Param : 8 | Score : 0.939625\n",
      "Param : 9 | Score : 0.925\n"
     ]
    }
   ],
   "source": [
    "for score, param_n in zip(clf.cv_results_['mean_test_score'], clf.cv_results_['param_n_neighbors']) :\n",
    "  print(\"Param : \" + str(param_n) + \" | Score : \" + str(score));"
   ]
  },
  {
   "cell_type": "code",
   "execution_count": null,
   "id": "F5DtnzRbHqx-",
   "metadata": {
    "colab": {
     "base_uri": "https://localhost:8080/"
    },
    "id": "F5DtnzRbHqx-",
    "outputId": "a1bdd854-5b32-49b4-fc83-9bed6ab9ca25"
   },
   "outputs": [
    {
     "name": "stdout",
     "output_type": "stream",
     "text": [
      "{'n_neighbors': 6}\n"
     ]
    }
   ],
   "source": [
    "print(clf_result.best_params_)"
   ]
  },
  {
   "cell_type": "code",
   "execution_count": null,
   "id": "G938BLqMH-XV",
   "metadata": {
    "id": "G938BLqMH-XV"
   },
   "outputs": [],
   "source": [
    "accuracy = dict()\n",
    "recall = dict()\n",
    "f1score = dict()\n",
    "precision = dict()\n",
    "res = dict()\n",
    "for n in parameters['n_neighbors'] : \n",
    "  clf = KNeighborsClassifier(n_neighbors=n)\n",
    "  clf.fit(X_train_bow, Y_train)\n",
    "  predict = clf.predict(X_test_bow)\n",
    "  accuracy[n] = accuracy_score(Y_test,predict)\n",
    "  recall[n] = recall_score(Y_test,predict)\n",
    "  f1score[n] = f1_score(Y_test,predict)\n",
    "  precision[n] = precision_score(Y_test,predict)"
   ]
  },
  {
   "cell_type": "code",
   "execution_count": null,
   "id": "1-3zncfUPXD6",
   "metadata": {
    "colab": {
     "base_uri": "https://localhost:8080/",
     "height": 417
    },
    "id": "1-3zncfUPXD6",
    "outputId": "9a84915a-7b58-4161-db95-56cc11980363"
   },
   "outputs": [
    {
     "data": {
      "text/html": [
       "<div>\n",
       "<style scoped>\n",
       "    .dataframe tbody tr th:only-of-type {\n",
       "        vertical-align: middle;\n",
       "    }\n",
       "\n",
       "    .dataframe tbody tr th {\n",
       "        vertical-align: top;\n",
       "    }\n",
       "\n",
       "    .dataframe thead th {\n",
       "        text-align: right;\n",
       "    }\n",
       "</style>\n",
       "<table border=\"1\" class=\"dataframe\">\n",
       "  <thead>\n",
       "    <tr style=\"text-align: right;\">\n",
       "      <th></th>\n",
       "      <th>Accuracy</th>\n",
       "      <th>Precision</th>\n",
       "      <th>Recall</th>\n",
       "      <th>F1-Score</th>\n",
       "    </tr>\n",
       "  </thead>\n",
       "  <tbody>\n",
       "    <tr>\n",
       "      <th>1</th>\n",
       "      <td>0.934</td>\n",
       "      <td>0.929524</td>\n",
       "      <td>0.943907</td>\n",
       "      <td>0.936660</td>\n",
       "    </tr>\n",
       "    <tr>\n",
       "      <th>2</th>\n",
       "      <td>0.934</td>\n",
       "      <td>0.972746</td>\n",
       "      <td>0.897485</td>\n",
       "      <td>0.933602</td>\n",
       "    </tr>\n",
       "    <tr>\n",
       "      <th>3</th>\n",
       "      <td>0.943</td>\n",
       "      <td>0.942308</td>\n",
       "      <td>0.947776</td>\n",
       "      <td>0.945034</td>\n",
       "    </tr>\n",
       "    <tr>\n",
       "      <th>4</th>\n",
       "      <td>0.943</td>\n",
       "      <td>0.963710</td>\n",
       "      <td>0.924565</td>\n",
       "      <td>0.943731</td>\n",
       "    </tr>\n",
       "    <tr>\n",
       "      <th>5</th>\n",
       "      <td>0.942</td>\n",
       "      <td>0.927374</td>\n",
       "      <td>0.963250</td>\n",
       "      <td>0.944972</td>\n",
       "    </tr>\n",
       "    <tr>\n",
       "      <th>6</th>\n",
       "      <td>0.946</td>\n",
       "      <td>0.953033</td>\n",
       "      <td>0.941973</td>\n",
       "      <td>0.947471</td>\n",
       "    </tr>\n",
       "    <tr>\n",
       "      <th>7</th>\n",
       "      <td>0.942</td>\n",
       "      <td>0.921101</td>\n",
       "      <td>0.970986</td>\n",
       "      <td>0.945386</td>\n",
       "    </tr>\n",
       "    <tr>\n",
       "      <th>8</th>\n",
       "      <td>0.947</td>\n",
       "      <td>0.937736</td>\n",
       "      <td>0.961315</td>\n",
       "      <td>0.949379</td>\n",
       "    </tr>\n",
       "    <tr>\n",
       "      <th>9</th>\n",
       "      <td>0.943</td>\n",
       "      <td>0.918182</td>\n",
       "      <td>0.976789</td>\n",
       "      <td>0.946579</td>\n",
       "    </tr>\n",
       "    <tr>\n",
       "      <th>10</th>\n",
       "      <td>0.946</td>\n",
       "      <td>0.931099</td>\n",
       "      <td>0.967118</td>\n",
       "      <td>0.948767</td>\n",
       "    </tr>\n",
       "    <tr>\n",
       "      <th>11</th>\n",
       "      <td>0.934</td>\n",
       "      <td>0.904847</td>\n",
       "      <td>0.974855</td>\n",
       "      <td>0.938547</td>\n",
       "    </tr>\n",
       "    <tr>\n",
       "      <th>12</th>\n",
       "      <td>0.939</td>\n",
       "      <td>0.916058</td>\n",
       "      <td>0.970986</td>\n",
       "      <td>0.942723</td>\n",
       "    </tr>\n",
       "  </tbody>\n",
       "</table>\n",
       "</div>"
      ],
      "text/plain": [
       "    Accuracy  Precision    Recall  F1-Score\n",
       "1      0.934   0.929524  0.943907  0.936660\n",
       "2      0.934   0.972746  0.897485  0.933602\n",
       "3      0.943   0.942308  0.947776  0.945034\n",
       "4      0.943   0.963710  0.924565  0.943731\n",
       "5      0.942   0.927374  0.963250  0.944972\n",
       "6      0.946   0.953033  0.941973  0.947471\n",
       "7      0.942   0.921101  0.970986  0.945386\n",
       "8      0.947   0.937736  0.961315  0.949379\n",
       "9      0.943   0.918182  0.976789  0.946579\n",
       "10     0.946   0.931099  0.967118  0.948767\n",
       "11     0.934   0.904847  0.974855  0.938547\n",
       "12     0.939   0.916058  0.970986  0.942723"
      ]
     },
     "execution_count": 130,
     "metadata": {},
     "output_type": "execute_result"
    }
   ],
   "source": [
    "results = pd.DataFrame(accuracy.values(), index=accuracy.keys(), columns=[\"Accuracy\"])\n",
    "results['Precision'] = precision.values()\n",
    "results['Recall'] = recall.values()\n",
    "results['F1-Score'] = f1score.values()\n",
    "results"
   ]
  },
  {
   "cell_type": "code",
   "execution_count": null,
   "id": "v1i_o2EPVXOg",
   "metadata": {
    "colab": {
     "base_uri": "https://localhost:8080/",
     "height": 266
    },
    "id": "v1i_o2EPVXOg",
    "outputId": "15cf0946-56ac-44e1-8747-0492af594f76"
   },
   "outputs": [
    {
     "data": {
      "image/png": "[encoded data removed]",
      "text/plain": [
       "<Figure size 432x288 with 1 Axes>"
      ]
     },
     "metadata": {
      "needs_background": "light"
     },
     "output_type": "display_data"
    }
   ],
   "source": [
    "sns.lineplot(data=results, x=results.index, y=\"Accuracy\", label=\"Accuracy\")\n",
    "sns.lineplot(data=results, x=results.index, y=\"Precision\", label=\"Precision\")\n",
    "sns.lineplot(data=results, x=results.index, y=\"Recall\", label=\"Recall\")\n",
    "sns.lineplot(data=results, x=results.index, y=\"F1-Score\", label=\"F1-Score\")\n",
    "plt.show()"
   ]
  },
  {
   "cell_type": "markdown",
   "id": "REBpVelSczh-",
   "metadata": {
    "id": "REBpVelSczh-"
   },
   "source": [
    "#### Avec TF-IDF :"
   ]
  },
  {
   "cell_type": "code",
   "execution_count": null,
   "id": "Esms8TGfc3Ce",
   "metadata": {
    "colab": {
     "base_uri": "https://localhost:8080/"
    },
    "id": "Esms8TGfc3Ce",
    "outputId": "5fa53e7a-6953-4d0e-eb40-a5a0fc600dae"
   },
   "outputs": [
    {
     "data": {
      "text/plain": [
       "GridSearchCV(estimator=KNeighborsClassifier(),\n",
       "             param_grid={'n_neighbors': [1, 2, 3, 4, 5, 6, 7, 8, 9]})"
      ]
     },
     "execution_count": 156,
     "metadata": {},
     "output_type": "execute_result"
    }
   ],
   "source": [
    "parameters = {'n_neighbors': [1,2,3,4,5,6,7,8,9]}\n",
    "clf = GridSearchCV(KNeighborsClassifier(), parameters, scoring=\"accuracy\")\n",
    "clf_result = clf.fit(X_train_tfidf, Y_train)\n",
    "GridSearchCV(estimator=KNeighborsClassifier(),\n",
    "             param_grid={'n_neighbors':parameters['n_neighbors']})"
   ]
  },
  {
   "cell_type": "code",
   "execution_count": null,
   "id": "mZ8l_1pqc_rg",
   "metadata": {
    "colab": {
     "base_uri": "https://localhost:8080/"
    },
    "id": "mZ8l_1pqc_rg",
    "outputId": "176410a9-e8f8-41a9-856f-982ff0de004b"
   },
   "outputs": [
    {
     "name": "stdout",
     "output_type": "stream",
     "text": [
      "{'n_neighbors': 1}\n"
     ]
    }
   ],
   "source": [
    "print(clf_result.best_params_)"
   ]
  },
  {
   "cell_type": "code",
   "execution_count": null,
   "id": "wlhUNic5dDC2",
   "metadata": {
    "colab": {
     "base_uri": "https://localhost:8080/",
     "height": 325
    },
    "id": "wlhUNic5dDC2",
    "outputId": "f5682f1d-0dd5-414e-d45d-95479e30155e"
   },
   "outputs": [
    {
     "data": {
      "text/html": [
       "<div>\n",
       "<style scoped>\n",
       "    .dataframe tbody tr th:only-of-type {\n",
       "        vertical-align: middle;\n",
       "    }\n",
       "\n",
       "    .dataframe tbody tr th {\n",
       "        vertical-align: top;\n",
       "    }\n",
       "\n",
       "    .dataframe thead th {\n",
       "        text-align: right;\n",
       "    }\n",
       "</style>\n",
       "<table border=\"1\" class=\"dataframe\">\n",
       "  <thead>\n",
       "    <tr style=\"text-align: right;\">\n",
       "      <th></th>\n",
       "      <th>Accuracy</th>\n",
       "      <th>Precision</th>\n",
       "      <th>Recall</th>\n",
       "      <th>F1-Score</th>\n",
       "    </tr>\n",
       "  </thead>\n",
       "  <tbody>\n",
       "    <tr>\n",
       "      <th>1</th>\n",
       "      <td>0.902</td>\n",
       "      <td>0.977221</td>\n",
       "      <td>0.829787</td>\n",
       "      <td>0.897490</td>\n",
       "    </tr>\n",
       "    <tr>\n",
       "      <th>2</th>\n",
       "      <td>0.827</td>\n",
       "      <td>0.988636</td>\n",
       "      <td>0.673114</td>\n",
       "      <td>0.800921</td>\n",
       "    </tr>\n",
       "    <tr>\n",
       "      <th>3</th>\n",
       "      <td>0.877</td>\n",
       "      <td>0.978155</td>\n",
       "      <td>0.779497</td>\n",
       "      <td>0.867600</td>\n",
       "    </tr>\n",
       "    <tr>\n",
       "      <th>4</th>\n",
       "      <td>0.828</td>\n",
       "      <td>0.991453</td>\n",
       "      <td>0.673114</td>\n",
       "      <td>0.801843</td>\n",
       "    </tr>\n",
       "    <tr>\n",
       "      <th>5</th>\n",
       "      <td>0.866</td>\n",
       "      <td>0.987277</td>\n",
       "      <td>0.750484</td>\n",
       "      <td>0.852747</td>\n",
       "    </tr>\n",
       "    <tr>\n",
       "      <th>6</th>\n",
       "      <td>0.821</td>\n",
       "      <td>0.997059</td>\n",
       "      <td>0.655706</td>\n",
       "      <td>0.791132</td>\n",
       "    </tr>\n",
       "    <tr>\n",
       "      <th>7</th>\n",
       "      <td>0.850</td>\n",
       "      <td>0.997290</td>\n",
       "      <td>0.711799</td>\n",
       "      <td>0.830700</td>\n",
       "    </tr>\n",
       "    <tr>\n",
       "      <th>8</th>\n",
       "      <td>0.814</td>\n",
       "      <td>0.996997</td>\n",
       "      <td>0.642166</td>\n",
       "      <td>0.781176</td>\n",
       "    </tr>\n",
       "    <tr>\n",
       "      <th>9</th>\n",
       "      <td>0.834</td>\n",
       "      <td>0.994366</td>\n",
       "      <td>0.682785</td>\n",
       "      <td>0.809633</td>\n",
       "    </tr>\n",
       "  </tbody>\n",
       "</table>\n",
       "</div>"
      ],
      "text/plain": [
       "   Accuracy  Precision    Recall  F1-Score\n",
       "1     0.902   0.977221  0.829787  0.897490\n",
       "2     0.827   0.988636  0.673114  0.800921\n",
       "3     0.877   0.978155  0.779497  0.867600\n",
       "4     0.828   0.991453  0.673114  0.801843\n",
       "5     0.866   0.987277  0.750484  0.852747\n",
       "6     0.821   0.997059  0.655706  0.791132\n",
       "7     0.850   0.997290  0.711799  0.830700\n",
       "8     0.814   0.996997  0.642166  0.781176\n",
       "9     0.834   0.994366  0.682785  0.809633"
      ]
     },
     "execution_count": 159,
     "metadata": {},
     "output_type": "execute_result"
    }
   ],
   "source": [
    "accuracy = dict()\n",
    "recall = dict()\n",
    "f1score = dict()\n",
    "precision = dict()\n",
    "res = dict()\n",
    "for n in parameters['n_neighbors'] : \n",
    "  clf = KNeighborsClassifier(n_neighbors=n)\n",
    "  clf.fit(X_train_tfidf, Y_train)\n",
    "  predict = clf.predict(X_test_tfidf)\n",
    "  accuracy[n] = accuracy_score(Y_test,predict)\n",
    "  recall[n] = recall_score(Y_test,predict)\n",
    "  f1score[n] = f1_score(Y_test,predict)\n",
    "  precision[n] = precision_score(Y_test,predict)\n",
    "\n",
    "results = pd.DataFrame(accuracy.values(), index=accuracy.keys(), columns=[\"Accuracy\"])\n",
    "results['Precision'] = precision.values()\n",
    "results['Recall'] = recall.values()\n",
    "results['F1-Score'] = f1score.values()\n",
    "results"
   ]
  },
  {
   "cell_type": "code",
   "execution_count": null,
   "id": "WXmHN1DrdU0X",
   "metadata": {
    "colab": {
     "base_uri": "https://localhost:8080/",
     "height": 265
    },
    "id": "WXmHN1DrdU0X",
    "outputId": "77e62767-7c3e-4ad5-d40b-3985deae2b17"
   },
   "outputs": [
    {
     "data": {
      "image/png": "[encoded data removed]",
      "text/plain": [
       "<Figure size 432x288 with 1 Axes>"
      ]
     },
     "metadata": {
      "needs_background": "light"
     },
     "output_type": "display_data"
    }
   ],
   "source": [
    "sns.lineplot(data=results, x=results.index, y=\"Accuracy\", label=\"Accuracy\")\n",
    "sns.lineplot(data=results, x=results.index, y=\"Precision\", label=\"Precision\")\n",
    "sns.lineplot(data=results, x=results.index, y=\"Recall\", label=\"Recall\")\n",
    "sns.lineplot(data=results, x=results.index, y=\"F1-Score\", label=\"F1-Score\")\n",
    "plt.show()"
   ]
  },
  {
   "cell_type": "markdown",
   "id": "232ccca6",
   "metadata": {
    "id": "232ccca6"
   },
   "source": [
    "## Réseaux de neurones"
   ]
  },
  {
   "cell_type": "markdown",
   "id": "db1f9193",
   "metadata": {
    "id": "db1f9193"
   },
   "source": [
    "Nous avons ensuite implémenté des réseaux de neurones, cf [reseaux_neurones](reseaux_neurones.ipynb), et enregistré les résultats dans un fichier texte. En effet, le code étant assez lourd et peu digeste, nous avons décidé de séparer celui-ci de son étude qui va suivre."
   ]
  },
  {
   "cell_type": "code",
   "execution_count": null,
   "id": "J_KLJD_e1D3C",
   "metadata": {
    "id": "J_KLJD_e1D3C"
   },
   "outputs": [],
   "source": [
    "data = pd.read_csv('resultat.txt',sep=',')"
   ]
  },
  {
   "cell_type": "code",
   "execution_count": null,
   "id": "wDAZEYCq1M5Z",
   "metadata": {
    "colab": {
     "base_uri": "https://localhost:8080/",
     "height": 662
    },
    "id": "wDAZEYCq1M5Z",
    "outputId": "1c85a8d9-bed1-4297-af63-d68ecc48e197"
   },
   "outputs": [
    {
     "data": {
      "text/html": [
       "<div>\n",
       "<style scoped>\n",
       "    .dataframe tbody tr th:only-of-type {\n",
       "        vertical-align: middle;\n",
       "    }\n",
       "\n",
       "    .dataframe tbody tr th {\n",
       "        vertical-align: top;\n",
       "    }\n",
       "\n",
       "    .dataframe thead th {\n",
       "        text-align: right;\n",
       "    }\n",
       "</style>\n",
       "<table border=\"1\" class=\"dataframe\">\n",
       "  <thead>\n",
       "    <tr style=\"text-align: right;\">\n",
       "      <th></th>\n",
       "      <th>Nom</th>\n",
       "      <th>Nombre d'itérations</th>\n",
       "      <th>Dropout</th>\n",
       "      <th>Precision</th>\n",
       "      <th>Rappel</th>\n",
       "      <th>Score-F1</th>\n",
       "      <th>Accuracy</th>\n",
       "      <th>Tps appr (ms)</th>\n",
       "      <th>Tps test (ms)</th>\n",
       "      <th>Mem test(bit)</th>\n",
       "      <th>nbr param</th>\n",
       "      <th>Taille(bit)</th>\n",
       "    </tr>\n",
       "  </thead>\n",
       "  <tbody>\n",
       "    <tr>\n",
       "      <th>0</th>\n",
       "      <td>Deep_Neural_Network</td>\n",
       "      <td>20</td>\n",
       "      <td>0.0</td>\n",
       "      <td>0.990</td>\n",
       "      <td>0.9915</td>\n",
       "      <td>0.9915</td>\n",
       "      <td>0.9915</td>\n",
       "      <td>41481</td>\n",
       "      <td>335</td>\n",
       "      <td>2345</td>\n",
       "      <td>1883137</td>\n",
       "      <td>4096</td>\n",
       "    </tr>\n",
       "    <tr>\n",
       "      <th>1</th>\n",
       "      <td>Deep_Neural_Network</td>\n",
       "      <td>20</td>\n",
       "      <td>0.2</td>\n",
       "      <td>0.990</td>\n",
       "      <td>0.9925</td>\n",
       "      <td>0.9925</td>\n",
       "      <td>0.9925</td>\n",
       "      <td>82596</td>\n",
       "      <td>350</td>\n",
       "      <td>23438</td>\n",
       "      <td>1883137</td>\n",
       "      <td>4096</td>\n",
       "    </tr>\n",
       "    <tr>\n",
       "      <th>2</th>\n",
       "      <td>Deep_Neural_Network</td>\n",
       "      <td>20</td>\n",
       "      <td>0.5</td>\n",
       "      <td>0.988</td>\n",
       "      <td>0.9920</td>\n",
       "      <td>0.9920</td>\n",
       "      <td>0.9920</td>\n",
       "      <td>82573</td>\n",
       "      <td>358</td>\n",
       "      <td>23438</td>\n",
       "      <td>1883137</td>\n",
       "      <td>4096</td>\n",
       "    </tr>\n",
       "    <tr>\n",
       "      <th>3</th>\n",
       "      <td>Deep_Neural_Network</td>\n",
       "      <td>20</td>\n",
       "      <td>0.8</td>\n",
       "      <td>0.991</td>\n",
       "      <td>0.9930</td>\n",
       "      <td>0.9930</td>\n",
       "      <td>0.9930</td>\n",
       "      <td>82594</td>\n",
       "      <td>356</td>\n",
       "      <td>25789</td>\n",
       "      <td>1883137</td>\n",
       "      <td>4096</td>\n",
       "    </tr>\n",
       "    <tr>\n",
       "      <th>4</th>\n",
       "      <td>LSTM</td>\n",
       "      <td>20</td>\n",
       "      <td>0.0</td>\n",
       "      <td>0.987</td>\n",
       "      <td>0.9905</td>\n",
       "      <td>0.9905</td>\n",
       "      <td>0.9905</td>\n",
       "      <td>133330</td>\n",
       "      <td>1104</td>\n",
       "      <td>23438</td>\n",
       "      <td>885505</td>\n",
       "      <td>4096</td>\n",
       "    </tr>\n",
       "    <tr>\n",
       "      <th>5</th>\n",
       "      <td>LSTM</td>\n",
       "      <td>20</td>\n",
       "      <td>0.2</td>\n",
       "      <td>0.992</td>\n",
       "      <td>0.9905</td>\n",
       "      <td>0.9905</td>\n",
       "      <td>0.9905</td>\n",
       "      <td>140251</td>\n",
       "      <td>1131</td>\n",
       "      <td>32825</td>\n",
       "      <td>885505</td>\n",
       "      <td>4096</td>\n",
       "    </tr>\n",
       "    <tr>\n",
       "      <th>6</th>\n",
       "      <td>LSTM</td>\n",
       "      <td>20</td>\n",
       "      <td>0.5</td>\n",
       "      <td>0.989</td>\n",
       "      <td>0.9910</td>\n",
       "      <td>0.9910</td>\n",
       "      <td>0.9910</td>\n",
       "      <td>141234</td>\n",
       "      <td>1117</td>\n",
       "      <td>23438</td>\n",
       "      <td>885505</td>\n",
       "      <td>4096</td>\n",
       "    </tr>\n",
       "    <tr>\n",
       "      <th>7</th>\n",
       "      <td>LSTM</td>\n",
       "      <td>20</td>\n",
       "      <td>0.8</td>\n",
       "      <td>0.991</td>\n",
       "      <td>0.9910</td>\n",
       "      <td>0.9910</td>\n",
       "      <td>0.9910</td>\n",
       "      <td>140077</td>\n",
       "      <td>1136</td>\n",
       "      <td>23438</td>\n",
       "      <td>885505</td>\n",
       "      <td>4096</td>\n",
       "    </tr>\n",
       "    <tr>\n",
       "      <th>8</th>\n",
       "      <td>GRU</td>\n",
       "      <td>20</td>\n",
       "      <td>0.0</td>\n",
       "      <td>0.977</td>\n",
       "      <td>0.9846</td>\n",
       "      <td>0.9845</td>\n",
       "      <td>0.9845</td>\n",
       "      <td>27414</td>\n",
       "      <td>258</td>\n",
       "      <td>46875</td>\n",
       "      <td>127489</td>\n",
       "      <td>4096</td>\n",
       "    </tr>\n",
       "    <tr>\n",
       "      <th>9</th>\n",
       "      <td>GRU</td>\n",
       "      <td>20</td>\n",
       "      <td>0.2</td>\n",
       "      <td>0.985</td>\n",
       "      <td>0.9870</td>\n",
       "      <td>0.9870</td>\n",
       "      <td>0.9870</td>\n",
       "      <td>27724</td>\n",
       "      <td>254</td>\n",
       "      <td>46875</td>\n",
       "      <td>127489</td>\n",
       "      <td>4096</td>\n",
       "    </tr>\n",
       "    <tr>\n",
       "      <th>10</th>\n",
       "      <td>GRU</td>\n",
       "      <td>20</td>\n",
       "      <td>0.5</td>\n",
       "      <td>0.974</td>\n",
       "      <td>0.9826</td>\n",
       "      <td>0.9825</td>\n",
       "      <td>0.9825</td>\n",
       "      <td>43391</td>\n",
       "      <td>252</td>\n",
       "      <td>46875</td>\n",
       "      <td>127489</td>\n",
       "      <td>4096</td>\n",
       "    </tr>\n",
       "    <tr>\n",
       "      <th>11</th>\n",
       "      <td>GRU</td>\n",
       "      <td>20</td>\n",
       "      <td>0.8</td>\n",
       "      <td>0.968</td>\n",
       "      <td>0.9829</td>\n",
       "      <td>0.9825</td>\n",
       "      <td>0.9825</td>\n",
       "      <td>28302</td>\n",
       "      <td>272</td>\n",
       "      <td>46875</td>\n",
       "      <td>127489</td>\n",
       "      <td>4096</td>\n",
       "    </tr>\n",
       "    <tr>\n",
       "      <th>12</th>\n",
       "      <td>BRNN</td>\n",
       "      <td>20</td>\n",
       "      <td>0.0</td>\n",
       "      <td>0.988</td>\n",
       "      <td>0.9905</td>\n",
       "      <td>0.9905</td>\n",
       "      <td>0.9905</td>\n",
       "      <td>55763</td>\n",
       "      <td>418</td>\n",
       "      <td>46875</td>\n",
       "      <td>582913</td>\n",
       "      <td>4096</td>\n",
       "    </tr>\n",
       "    <tr>\n",
       "      <th>13</th>\n",
       "      <td>BRNN</td>\n",
       "      <td>20</td>\n",
       "      <td>0.2</td>\n",
       "      <td>0.987</td>\n",
       "      <td>0.9905</td>\n",
       "      <td>0.9905</td>\n",
       "      <td>0.9905</td>\n",
       "      <td>56218</td>\n",
       "      <td>408</td>\n",
       "      <td>46875</td>\n",
       "      <td>582913</td>\n",
       "      <td>4096</td>\n",
       "    </tr>\n",
       "    <tr>\n",
       "      <th>14</th>\n",
       "      <td>BRNN</td>\n",
       "      <td>20</td>\n",
       "      <td>0.5</td>\n",
       "      <td>0.986</td>\n",
       "      <td>0.9895</td>\n",
       "      <td>0.9895</td>\n",
       "      <td>0.9895</td>\n",
       "      <td>55663</td>\n",
       "      <td>389</td>\n",
       "      <td>46875</td>\n",
       "      <td>582913</td>\n",
       "      <td>4096</td>\n",
       "    </tr>\n",
       "    <tr>\n",
       "      <th>15</th>\n",
       "      <td>BRNN</td>\n",
       "      <td>20</td>\n",
       "      <td>0.8</td>\n",
       "      <td>0.978</td>\n",
       "      <td>0.9841</td>\n",
       "      <td>0.9840</td>\n",
       "      <td>0.9840</td>\n",
       "      <td>55397</td>\n",
       "      <td>403</td>\n",
       "      <td>46875</td>\n",
       "      <td>582913</td>\n",
       "      <td>4096</td>\n",
       "    </tr>\n",
       "    <tr>\n",
       "      <th>16</th>\n",
       "      <td>RCNN</td>\n",
       "      <td>20</td>\n",
       "      <td>0.0</td>\n",
       "      <td>0.982</td>\n",
       "      <td>0.9891</td>\n",
       "      <td>0.9890</td>\n",
       "      <td>0.9890</td>\n",
       "      <td>55044</td>\n",
       "      <td>401</td>\n",
       "      <td>46875</td>\n",
       "      <td>582913</td>\n",
       "      <td>4096</td>\n",
       "    </tr>\n",
       "    <tr>\n",
       "      <th>17</th>\n",
       "      <td>RCNN</td>\n",
       "      <td>20</td>\n",
       "      <td>0.2</td>\n",
       "      <td>0.987</td>\n",
       "      <td>0.9895</td>\n",
       "      <td>0.9895</td>\n",
       "      <td>0.9895</td>\n",
       "      <td>86378</td>\n",
       "      <td>403</td>\n",
       "      <td>46875</td>\n",
       "      <td>582913</td>\n",
       "      <td>4096</td>\n",
       "    </tr>\n",
       "    <tr>\n",
       "      <th>18</th>\n",
       "      <td>RCNN</td>\n",
       "      <td>20</td>\n",
       "      <td>0.5</td>\n",
       "      <td>0.988</td>\n",
       "      <td>0.9900</td>\n",
       "      <td>0.9900</td>\n",
       "      <td>0.9900</td>\n",
       "      <td>85967</td>\n",
       "      <td>375</td>\n",
       "      <td>46875</td>\n",
       "      <td>582913</td>\n",
       "      <td>4096</td>\n",
       "    </tr>\n",
       "    <tr>\n",
       "      <th>19</th>\n",
       "      <td>RCNN</td>\n",
       "      <td>20</td>\n",
       "      <td>0.8</td>\n",
       "      <td>0.980</td>\n",
       "      <td>0.9845</td>\n",
       "      <td>0.9845</td>\n",
       "      <td>0.9845</td>\n",
       "      <td>85081</td>\n",
       "      <td>395</td>\n",
       "      <td>46875</td>\n",
       "      <td>582913</td>\n",
       "      <td>4096</td>\n",
       "    </tr>\n",
       "  </tbody>\n",
       "</table>\n",
       "</div>"
      ],
      "text/plain": [
       "                    Nom  Nombre d'itérations  ...  nbr param  Taille(bit)\n",
       "0   Deep_Neural_Network                   20  ...    1883137         4096\n",
       "1   Deep_Neural_Network                   20  ...    1883137         4096\n",
       "2   Deep_Neural_Network                   20  ...    1883137         4096\n",
       "3   Deep_Neural_Network                   20  ...    1883137         4096\n",
       "4                  LSTM                   20  ...     885505         4096\n",
       "5                  LSTM                   20  ...     885505         4096\n",
       "6                  LSTM                   20  ...     885505         4096\n",
       "7                  LSTM                   20  ...     885505         4096\n",
       "8                   GRU                   20  ...     127489         4096\n",
       "9                   GRU                   20  ...     127489         4096\n",
       "10                  GRU                   20  ...     127489         4096\n",
       "11                  GRU                   20  ...     127489         4096\n",
       "12                 BRNN                   20  ...     582913         4096\n",
       "13                 BRNN                   20  ...     582913         4096\n",
       "14                 BRNN                   20  ...     582913         4096\n",
       "15                 BRNN                   20  ...     582913         4096\n",
       "16                 RCNN                   20  ...     582913         4096\n",
       "17                 RCNN                   20  ...     582913         4096\n",
       "18                 RCNN                   20  ...     582913         4096\n",
       "19                 RCNN                   20  ...     582913         4096\n",
       "\n",
       "[20 rows x 12 columns]"
      ]
     },
     "execution_count": 164,
     "metadata": {},
     "output_type": "execute_result"
    }
   ],
   "source": [
    "data"
   ]
  },
  {
   "cell_type": "code",
   "execution_count": null,
   "id": "C92sA2m8_tn_",
   "metadata": {
    "colab": {
     "base_uri": "https://localhost:8080/"
    },
    "id": "C92sA2m8_tn_",
    "outputId": "11354ac5-e559-47d0-c84a-031f08869f36"
   },
   "outputs": [
    {
     "data": {
      "text/plain": [
       "['Deep_Neural_Network', 'LSTM', 'GRU', 'BRNN', 'RCNN']"
      ]
     },
     "execution_count": 165,
     "metadata": {},
     "output_type": "execute_result"
    }
   ],
   "source": [
    "reseaux = pd.unique(data[\"Nom\"]).tolist()\n",
    "reseaux"
   ]
  },
  {
   "cell_type": "raw",
   "id": "e3381a0f",
   "metadata": {
    "id": "e3381a0f"
   },
   "source": [
    "Chaque réseau a 4 implémentations, on a varié le dropout (0 -> 0.2 -> 0.5 -> 0.8), on veut donc récupérer pour chauqe réseau, sa meilleure implémentation. On va notamment regarder l'accuracy."
   ]
  },
  {
   "cell_type": "code",
   "execution_count": null,
   "id": "608336cc",
   "metadata": {
    "id": "608336cc"
   },
   "outputs": [],
   "source": [
    "bestRes = list()\n",
    "for reseau in reseaux :\n",
    "    tmp = data[data[\"Nom\"] == reseau]\n",
    "    bestRes.append(tmp[tmp[\"Accuracy\"].max() == tmp[\"Accuracy\"]])"
   ]
  },
  {
   "cell_type": "markdown",
   "id": "feb84392",
   "metadata": {
    "id": "feb84392"
   },
   "source": [
    "### DNN"
   ]
  },
  {
   "cell_type": "code",
   "execution_count": null,
   "id": "b7f46136",
   "metadata": {
    "colab": {
     "base_uri": "https://localhost:8080/",
     "height": 80
    },
    "id": "b7f46136",
    "outputId": "25b03413-ae32-43c5-b99a-b7a1c267f7cb"
   },
   "outputs": [
    {
     "data": {
      "text/html": [
       "<div>\n",
       "<style scoped>\n",
       "    .dataframe tbody tr th:only-of-type {\n",
       "        vertical-align: middle;\n",
       "    }\n",
       "\n",
       "    .dataframe tbody tr th {\n",
       "        vertical-align: top;\n",
       "    }\n",
       "\n",
       "    .dataframe thead th {\n",
       "        text-align: right;\n",
       "    }\n",
       "</style>\n",
       "<table border=\"1\" class=\"dataframe\">\n",
       "  <thead>\n",
       "    <tr style=\"text-align: right;\">\n",
       "      <th></th>\n",
       "      <th>Nom</th>\n",
       "      <th>Nombre d'itérations</th>\n",
       "      <th>Dropout</th>\n",
       "      <th>Precision</th>\n",
       "      <th>Rappel</th>\n",
       "      <th>Score-F1</th>\n",
       "      <th>Accuracy</th>\n",
       "      <th>Tps appr (ms)</th>\n",
       "      <th>Tps test (ms)</th>\n",
       "      <th>Mem test(bit)</th>\n",
       "      <th>nbr param</th>\n",
       "      <th>Taille(bit)</th>\n",
       "    </tr>\n",
       "  </thead>\n",
       "  <tbody>\n",
       "    <tr>\n",
       "      <th>3</th>\n",
       "      <td>Deep_Neural_Network</td>\n",
       "      <td>20</td>\n",
       "      <td>0.8</td>\n",
       "      <td>0.991</td>\n",
       "      <td>0.993</td>\n",
       "      <td>0.993</td>\n",
       "      <td>0.993</td>\n",
       "      <td>82594</td>\n",
       "      <td>356</td>\n",
       "      <td>25789</td>\n",
       "      <td>1883137</td>\n",
       "      <td>4096</td>\n",
       "    </tr>\n",
       "  </tbody>\n",
       "</table>\n",
       "</div>"
      ],
      "text/plain": [
       "                   Nom  Nombre d'itérations  ...  nbr param  Taille(bit)\n",
       "3  Deep_Neural_Network                   20  ...    1883137         4096\n",
       "\n",
       "[1 rows x 12 columns]"
      ]
     },
     "execution_count": 167,
     "metadata": {},
     "output_type": "execute_result"
    }
   ],
   "source": [
    "bestRes[0]"
   ]
  },
  {
   "cell_type": "markdown",
   "id": "8fae3d6f",
   "metadata": {
    "id": "8fae3d6f"
   },
   "source": [
    "### LSTM"
   ]
  },
  {
   "cell_type": "code",
   "execution_count": null,
   "id": "60f0b884",
   "metadata": {
    "colab": {
     "base_uri": "https://localhost:8080/",
     "height": 110
    },
    "id": "60f0b884",
    "outputId": "2b460b7e-b515-4654-c835-89748fceae09"
   },
   "outputs": [
    {
     "data": {
      "text/html": [
       "<div>\n",
       "<style scoped>\n",
       "    .dataframe tbody tr th:only-of-type {\n",
       "        vertical-align: middle;\n",
       "    }\n",
       "\n",
       "    .dataframe tbody tr th {\n",
       "        vertical-align: top;\n",
       "    }\n",
       "\n",
       "    .dataframe thead th {\n",
       "        text-align: right;\n",
       "    }\n",
       "</style>\n",
       "<table border=\"1\" class=\"dataframe\">\n",
       "  <thead>\n",
       "    <tr style=\"text-align: right;\">\n",
       "      <th></th>\n",
       "      <th>Nom</th>\n",
       "      <th>Nombre d'itérations</th>\n",
       "      <th>Dropout</th>\n",
       "      <th>Precision</th>\n",
       "      <th>Rappel</th>\n",
       "      <th>Score-F1</th>\n",
       "      <th>Accuracy</th>\n",
       "      <th>Tps appr (ms)</th>\n",
       "      <th>Tps test (ms)</th>\n",
       "      <th>Mem test(bit)</th>\n",
       "      <th>nbr param</th>\n",
       "      <th>Taille(bit)</th>\n",
       "    </tr>\n",
       "  </thead>\n",
       "  <tbody>\n",
       "    <tr>\n",
       "      <th>6</th>\n",
       "      <td>LSTM</td>\n",
       "      <td>20</td>\n",
       "      <td>0.5</td>\n",
       "      <td>0.989</td>\n",
       "      <td>0.991</td>\n",
       "      <td>0.991</td>\n",
       "      <td>0.991</td>\n",
       "      <td>141234</td>\n",
       "      <td>1117</td>\n",
       "      <td>23438</td>\n",
       "      <td>885505</td>\n",
       "      <td>4096</td>\n",
       "    </tr>\n",
       "    <tr>\n",
       "      <th>7</th>\n",
       "      <td>LSTM</td>\n",
       "      <td>20</td>\n",
       "      <td>0.8</td>\n",
       "      <td>0.991</td>\n",
       "      <td>0.991</td>\n",
       "      <td>0.991</td>\n",
       "      <td>0.991</td>\n",
       "      <td>140077</td>\n",
       "      <td>1136</td>\n",
       "      <td>23438</td>\n",
       "      <td>885505</td>\n",
       "      <td>4096</td>\n",
       "    </tr>\n",
       "  </tbody>\n",
       "</table>\n",
       "</div>"
      ],
      "text/plain": [
       "    Nom  Nombre d'itérations  Dropout  ...  Mem test(bit)  nbr param  Taille(bit)\n",
       "6  LSTM                   20      0.5  ...          23438     885505         4096\n",
       "7  LSTM                   20      0.8  ...          23438     885505         4096\n",
       "\n",
       "[2 rows x 12 columns]"
      ]
     },
     "execution_count": 168,
     "metadata": {},
     "output_type": "execute_result"
    }
   ],
   "source": [
    "bestRes[1]"
   ]
  },
  {
   "cell_type": "raw",
   "id": "b08086b9",
   "metadata": {
    "id": "b08086b9"
   },
   "source": [
    "On remarque que pour LSTM, nous avons deux résultats, ils ont la même accuracy, mais également le même score-F1 et rappel. On décide donc de les départager via leur précision."
   ]
  },
  {
   "cell_type": "code",
   "execution_count": null,
   "id": "c775116c",
   "metadata": {
    "id": "c775116c"
   },
   "outputs": [],
   "source": [
    "bestRes[1] = bestRes[1][bestRes[1].Precision.max() == bestRes[1].Precision]"
   ]
  },
  {
   "cell_type": "code",
   "execution_count": null,
   "id": "1d862b1e",
   "metadata": {
    "colab": {
     "base_uri": "https://localhost:8080/",
     "height": 80
    },
    "id": "1d862b1e",
    "outputId": "fbebdb86-8784-4728-d066-9b386fbd9e61"
   },
   "outputs": [
    {
     "data": {
      "text/html": [
       "<div>\n",
       "<style scoped>\n",
       "    .dataframe tbody tr th:only-of-type {\n",
       "        vertical-align: middle;\n",
       "    }\n",
       "\n",
       "    .dataframe tbody tr th {\n",
       "        vertical-align: top;\n",
       "    }\n",
       "\n",
       "    .dataframe thead th {\n",
       "        text-align: right;\n",
       "    }\n",
       "</style>\n",
       "<table border=\"1\" class=\"dataframe\">\n",
       "  <thead>\n",
       "    <tr style=\"text-align: right;\">\n",
       "      <th></th>\n",
       "      <th>Nom</th>\n",
       "      <th>Nombre d'itérations</th>\n",
       "      <th>Dropout</th>\n",
       "      <th>Precision</th>\n",
       "      <th>Rappel</th>\n",
       "      <th>Score-F1</th>\n",
       "      <th>Accuracy</th>\n",
       "      <th>Tps appr (ms)</th>\n",
       "      <th>Tps test (ms)</th>\n",
       "      <th>Mem test(bit)</th>\n",
       "      <th>nbr param</th>\n",
       "      <th>Taille(bit)</th>\n",
       "    </tr>\n",
       "  </thead>\n",
       "  <tbody>\n",
       "    <tr>\n",
       "      <th>7</th>\n",
       "      <td>LSTM</td>\n",
       "      <td>20</td>\n",
       "      <td>0.8</td>\n",
       "      <td>0.991</td>\n",
       "      <td>0.991</td>\n",
       "      <td>0.991</td>\n",
       "      <td>0.991</td>\n",
       "      <td>140077</td>\n",
       "      <td>1136</td>\n",
       "      <td>23438</td>\n",
       "      <td>885505</td>\n",
       "      <td>4096</td>\n",
       "    </tr>\n",
       "  </tbody>\n",
       "</table>\n",
       "</div>"
      ],
      "text/plain": [
       "    Nom  Nombre d'itérations  Dropout  ...  Mem test(bit)  nbr param  Taille(bit)\n",
       "7  LSTM                   20      0.8  ...          23438     885505         4096\n",
       "\n",
       "[1 rows x 12 columns]"
      ]
     },
     "execution_count": 170,
     "metadata": {},
     "output_type": "execute_result"
    }
   ],
   "source": [
    "bestRes[1]"
   ]
  },
  {
   "cell_type": "markdown",
   "id": "b0bbb87e",
   "metadata": {
    "id": "b0bbb87e"
   },
   "source": [
    "### GRU"
   ]
  },
  {
   "cell_type": "code",
   "execution_count": null,
   "id": "72b9d645",
   "metadata": {
    "colab": {
     "base_uri": "https://localhost:8080/",
     "height": 80
    },
    "id": "72b9d645",
    "outputId": "93ee1c6b-b8b9-4776-c408-f9759fde3049"
   },
   "outputs": [
    {
     "data": {
      "text/html": [
       "<div>\n",
       "<style scoped>\n",
       "    .dataframe tbody tr th:only-of-type {\n",
       "        vertical-align: middle;\n",
       "    }\n",
       "\n",
       "    .dataframe tbody tr th {\n",
       "        vertical-align: top;\n",
       "    }\n",
       "\n",
       "    .dataframe thead th {\n",
       "        text-align: right;\n",
       "    }\n",
       "</style>\n",
       "<table border=\"1\" class=\"dataframe\">\n",
       "  <thead>\n",
       "    <tr style=\"text-align: right;\">\n",
       "      <th></th>\n",
       "      <th>Nom</th>\n",
       "      <th>Nombre d'itérations</th>\n",
       "      <th>Dropout</th>\n",
       "      <th>Precision</th>\n",
       "      <th>Rappel</th>\n",
       "      <th>Score-F1</th>\n",
       "      <th>Accuracy</th>\n",
       "      <th>Tps appr (ms)</th>\n",
       "      <th>Tps test (ms)</th>\n",
       "      <th>Mem test(bit)</th>\n",
       "      <th>nbr param</th>\n",
       "      <th>Taille(bit)</th>\n",
       "    </tr>\n",
       "  </thead>\n",
       "  <tbody>\n",
       "    <tr>\n",
       "      <th>9</th>\n",
       "      <td>GRU</td>\n",
       "      <td>20</td>\n",
       "      <td>0.2</td>\n",
       "      <td>0.985</td>\n",
       "      <td>0.987</td>\n",
       "      <td>0.987</td>\n",
       "      <td>0.987</td>\n",
       "      <td>27724</td>\n",
       "      <td>254</td>\n",
       "      <td>46875</td>\n",
       "      <td>127489</td>\n",
       "      <td>4096</td>\n",
       "    </tr>\n",
       "  </tbody>\n",
       "</table>\n",
       "</div>"
      ],
      "text/plain": [
       "   Nom  Nombre d'itérations  Dropout  ...  Mem test(bit)  nbr param  Taille(bit)\n",
       "9  GRU                   20      0.2  ...          46875     127489         4096\n",
       "\n",
       "[1 rows x 12 columns]"
      ]
     },
     "execution_count": 171,
     "metadata": {},
     "output_type": "execute_result"
    }
   ],
   "source": [
    "bestRes[2]"
   ]
  },
  {
   "cell_type": "markdown",
   "id": "e2720f04",
   "metadata": {
    "id": "e2720f04"
   },
   "source": [
    "### BRNN"
   ]
  },
  {
   "cell_type": "code",
   "execution_count": null,
   "id": "6d854e04",
   "metadata": {
    "colab": {
     "base_uri": "https://localhost:8080/",
     "height": 110
    },
    "id": "6d854e04",
    "outputId": "6e36449e-ebbb-4a26-cf90-138a9920381c"
   },
   "outputs": [
    {
     "data": {
      "text/html": [
       "<div>\n",
       "<style scoped>\n",
       "    .dataframe tbody tr th:only-of-type {\n",
       "        vertical-align: middle;\n",
       "    }\n",
       "\n",
       "    .dataframe tbody tr th {\n",
       "        vertical-align: top;\n",
       "    }\n",
       "\n",
       "    .dataframe thead th {\n",
       "        text-align: right;\n",
       "    }\n",
       "</style>\n",
       "<table border=\"1\" class=\"dataframe\">\n",
       "  <thead>\n",
       "    <tr style=\"text-align: right;\">\n",
       "      <th></th>\n",
       "      <th>Nom</th>\n",
       "      <th>Nombre d'itérations</th>\n",
       "      <th>Dropout</th>\n",
       "      <th>Precision</th>\n",
       "      <th>Rappel</th>\n",
       "      <th>Score-F1</th>\n",
       "      <th>Accuracy</th>\n",
       "      <th>Tps appr (ms)</th>\n",
       "      <th>Tps test (ms)</th>\n",
       "      <th>Mem test(bit)</th>\n",
       "      <th>nbr param</th>\n",
       "      <th>Taille(bit)</th>\n",
       "    </tr>\n",
       "  </thead>\n",
       "  <tbody>\n",
       "    <tr>\n",
       "      <th>12</th>\n",
       "      <td>BRNN</td>\n",
       "      <td>20</td>\n",
       "      <td>0.0</td>\n",
       "      <td>0.988</td>\n",
       "      <td>0.9905</td>\n",
       "      <td>0.9905</td>\n",
       "      <td>0.9905</td>\n",
       "      <td>55763</td>\n",
       "      <td>418</td>\n",
       "      <td>46875</td>\n",
       "      <td>582913</td>\n",
       "      <td>4096</td>\n",
       "    </tr>\n",
       "    <tr>\n",
       "      <th>13</th>\n",
       "      <td>BRNN</td>\n",
       "      <td>20</td>\n",
       "      <td>0.2</td>\n",
       "      <td>0.987</td>\n",
       "      <td>0.9905</td>\n",
       "      <td>0.9905</td>\n",
       "      <td>0.9905</td>\n",
       "      <td>56218</td>\n",
       "      <td>408</td>\n",
       "      <td>46875</td>\n",
       "      <td>582913</td>\n",
       "      <td>4096</td>\n",
       "    </tr>\n",
       "  </tbody>\n",
       "</table>\n",
       "</div>"
      ],
      "text/plain": [
       "     Nom  Nombre d'itérations  Dropout  ...  Mem test(bit)  nbr param  Taille(bit)\n",
       "12  BRNN                   20      0.0  ...          46875     582913         4096\n",
       "13  BRNN                   20      0.2  ...          46875     582913         4096\n",
       "\n",
       "[2 rows x 12 columns]"
      ]
     },
     "execution_count": 172,
     "metadata": {},
     "output_type": "execute_result"
    }
   ],
   "source": [
    "bestRes[3]"
   ]
  },
  {
   "cell_type": "raw",
   "id": "ba4ac803",
   "metadata": {
    "id": "ba4ac803"
   },
   "source": [
    "Même cas que LSTM."
   ]
  },
  {
   "cell_type": "code",
   "execution_count": null,
   "id": "61f64b4f",
   "metadata": {
    "id": "61f64b4f"
   },
   "outputs": [],
   "source": [
    "bestRes[3] = bestRes[3][bestRes[3].Precision.max() == bestRes[3].Precision]"
   ]
  },
  {
   "cell_type": "code",
   "execution_count": null,
   "id": "dc6397b2",
   "metadata": {
    "colab": {
     "base_uri": "https://localhost:8080/",
     "height": 80
    },
    "id": "dc6397b2",
    "outputId": "74f6255d-71cb-4c89-ff6c-3b3dd6ef6056"
   },
   "outputs": [
    {
     "data": {
      "text/html": [
       "<div>\n",
       "<style scoped>\n",
       "    .dataframe tbody tr th:only-of-type {\n",
       "        vertical-align: middle;\n",
       "    }\n",
       "\n",
       "    .dataframe tbody tr th {\n",
       "        vertical-align: top;\n",
       "    }\n",
       "\n",
       "    .dataframe thead th {\n",
       "        text-align: right;\n",
       "    }\n",
       "</style>\n",
       "<table border=\"1\" class=\"dataframe\">\n",
       "  <thead>\n",
       "    <tr style=\"text-align: right;\">\n",
       "      <th></th>\n",
       "      <th>Nom</th>\n",
       "      <th>Nombre d'itérations</th>\n",
       "      <th>Dropout</th>\n",
       "      <th>Precision</th>\n",
       "      <th>Rappel</th>\n",
       "      <th>Score-F1</th>\n",
       "      <th>Accuracy</th>\n",
       "      <th>Tps appr (ms)</th>\n",
       "      <th>Tps test (ms)</th>\n",
       "      <th>Mem test(bit)</th>\n",
       "      <th>nbr param</th>\n",
       "      <th>Taille(bit)</th>\n",
       "    </tr>\n",
       "  </thead>\n",
       "  <tbody>\n",
       "    <tr>\n",
       "      <th>12</th>\n",
       "      <td>BRNN</td>\n",
       "      <td>20</td>\n",
       "      <td>0.0</td>\n",
       "      <td>0.988</td>\n",
       "      <td>0.9905</td>\n",
       "      <td>0.9905</td>\n",
       "      <td>0.9905</td>\n",
       "      <td>55763</td>\n",
       "      <td>418</td>\n",
       "      <td>46875</td>\n",
       "      <td>582913</td>\n",
       "      <td>4096</td>\n",
       "    </tr>\n",
       "  </tbody>\n",
       "</table>\n",
       "</div>"
      ],
      "text/plain": [
       "     Nom  Nombre d'itérations  Dropout  ...  Mem test(bit)  nbr param  Taille(bit)\n",
       "12  BRNN                   20      0.0  ...          46875     582913         4096\n",
       "\n",
       "[1 rows x 12 columns]"
      ]
     },
     "execution_count": 174,
     "metadata": {},
     "output_type": "execute_result"
    }
   ],
   "source": [
    "bestRes[3]"
   ]
  },
  {
   "cell_type": "markdown",
   "id": "f1b65846",
   "metadata": {
    "id": "f1b65846"
   },
   "source": [
    "### RCNN"
   ]
  },
  {
   "cell_type": "code",
   "execution_count": null,
   "id": "d9c5ad84",
   "metadata": {
    "colab": {
     "base_uri": "https://localhost:8080/",
     "height": 80
    },
    "id": "d9c5ad84",
    "outputId": "9b30b211-3bef-4aa2-c9f0-54501a49f462"
   },
   "outputs": [
    {
     "data": {
      "text/html": [
       "<div>\n",
       "<style scoped>\n",
       "    .dataframe tbody tr th:only-of-type {\n",
       "        vertical-align: middle;\n",
       "    }\n",
       "\n",
       "    .dataframe tbody tr th {\n",
       "        vertical-align: top;\n",
       "    }\n",
       "\n",
       "    .dataframe thead th {\n",
       "        text-align: right;\n",
       "    }\n",
       "</style>\n",
       "<table border=\"1\" class=\"dataframe\">\n",
       "  <thead>\n",
       "    <tr style=\"text-align: right;\">\n",
       "      <th></th>\n",
       "      <th>Nom</th>\n",
       "      <th>Nombre d'itérations</th>\n",
       "      <th>Dropout</th>\n",
       "      <th>Precision</th>\n",
       "      <th>Rappel</th>\n",
       "      <th>Score-F1</th>\n",
       "      <th>Accuracy</th>\n",
       "      <th>Tps appr (ms)</th>\n",
       "      <th>Tps test (ms)</th>\n",
       "      <th>Mem test(bit)</th>\n",
       "      <th>nbr param</th>\n",
       "      <th>Taille(bit)</th>\n",
       "    </tr>\n",
       "  </thead>\n",
       "  <tbody>\n",
       "    <tr>\n",
       "      <th>18</th>\n",
       "      <td>RCNN</td>\n",
       "      <td>20</td>\n",
       "      <td>0.5</td>\n",
       "      <td>0.988</td>\n",
       "      <td>0.99</td>\n",
       "      <td>0.99</td>\n",
       "      <td>0.99</td>\n",
       "      <td>85967</td>\n",
       "      <td>375</td>\n",
       "      <td>46875</td>\n",
       "      <td>582913</td>\n",
       "      <td>4096</td>\n",
       "    </tr>\n",
       "  </tbody>\n",
       "</table>\n",
       "</div>"
      ],
      "text/plain": [
       "     Nom  Nombre d'itérations  Dropout  ...  Mem test(bit)  nbr param  Taille(bit)\n",
       "18  RCNN                   20      0.5  ...          46875     582913         4096\n",
       "\n",
       "[1 rows x 12 columns]"
      ]
     },
     "execution_count": 175,
     "metadata": {},
     "output_type": "execute_result"
    }
   ],
   "source": [
    "bestRes[4]"
   ]
  },
  {
   "cell_type": "markdown",
   "id": "UuvNrY2XnUPh",
   "metadata": {
    "id": "UuvNrY2XnUPh"
   },
   "source": [
    "### Graphe de chaque réseau de neurones :"
   ]
  },
  {
   "cell_type": "markdown",
   "id": "uo3pwSVj0ilg",
   "metadata": {
    "id": "uo3pwSVj0ilg"
   },
   "source": [
    "Pour chaque type de réseau de neurone, on va comparer graphiquement l'accuracy, la précision, le rappel et le f1-score avec un dropout qui diffère (0, 0.2, 0.5, 0.8).  \n",
    "On remarque que pour chaque modèle nos valeurs d'accuracy, précision etc.. ne changent pas beaucoup, elles sont pratiquement les mêmes, ce qui montre que ce modèle est stable.   \n",
    "La valeur de l'accuracy ne change pas beaucoup selon la valeur du dropout."
   ]
  },
  {
   "cell_type": "code",
   "execution_count": null,
   "id": "S6fbhKNogjen",
   "metadata": {
    "colab": {
     "base_uri": "https://localhost:8080/",
     "height": 1000
    },
    "id": "S6fbhKNogjen",
    "outputId": "c90ef90f-de6e-4c3b-afb2-3211717965de"
   },
   "outputs": [
    {
     "data": {
      "image/png": "[encoded data removed]",
      "text/plain": [
       "<Figure size 576x432 with 1 Axes>"
      ]
     },
     "metadata": {
      "needs_background": "light"
     },
     "output_type": "display_data"
    },
    {
     "data": {
      "image/png": "[encoded data removed]",
      "text/plain": [
       "<Figure size 576x432 with 1 Axes>"
      ]
     },
     "metadata": {
      "needs_background": "light"
     },
     "output_type": "display_data"
    },
    {
     "data": {
      "image/png": "[encoded data removed]",
      "text/plain": [
       "<Figure size 576x432 with 1 Axes>"
      ]
     },
     "metadata": {
      "needs_background": "light"
     },
     "output_type": "display_data"
    },
    {
     "data": {
      "image/png": "[encoded data removed]",
      "text/plain": [
       "<Figure size 576x432 with 1 Axes>"
      ]
     },
     "metadata": {
      "needs_background": "light"
     },
     "output_type": "display_data"
    },
    {
     "data": {
      "image/png": "[encoded data removed]",
      "text/plain": [
       "<Figure size 576x432 with 1 Axes>"
      ]
     },
     "metadata": {
      "needs_background": "light"
     },
     "output_type": "display_data"
    }
   ],
   "source": [
    "for nn in reseaux :\n",
    "  tmp = data[data[\"Nom\"] == nn]\n",
    "  plt.figure(figsize=(8, 6))\n",
    "  plt.xticks([0,0.2,0.5,0.8])\n",
    "  plt.ylim(ymax=1)\n",
    "  plt.ylim(ymin=0.7)\n",
    "  sns.lineplot(x=tmp.Dropout, y=tmp.Accuracy, label=\"Accuracy\")\n",
    "  sns.lineplot(x=tmp.Dropout, y=tmp.Precision,label=\"Precision\")\n",
    "  sns.lineplot(x=tmp.Dropout, y=tmp['Score-F1'],label=\"Score-F1\")\n",
    "  sns.lineplot(x=tmp.Dropout, y=tmp.Rappel,label=\"Rappel\")\n",
    "  plt.ylabel(\"Valeur\")\n",
    "  plt.title(nn)\n",
    "  plt.show()"
   ]
  },
  {
   "cell_type": "markdown",
   "id": "qLN9s4dZnceh",
   "metadata": {
    "id": "qLN9s4dZnceh"
   },
   "source": [
    "#### Comparaison de chaque meilleurs réseau de neurone :"
   ]
  },
  {
   "cell_type": "code",
   "execution_count": null,
   "id": "SkZ_Lzr_xh-h",
   "metadata": {
    "colab": {
     "base_uri": "https://localhost:8080/"
    },
    "id": "SkZ_Lzr_xh-h",
    "outputId": "4df4dcaa-3056-4948-8dd1-d1b94436c733"
   },
   "outputs": [
    {
     "data": {
      "text/plain": [
       "Index(['Nom', 'Nombre d'itérations', 'Dropout', 'Precision', 'Rappel',\n",
       "       'Score-F1', 'Accuracy', 'Tps appr (ms)', 'Tps test (ms)',\n",
       "       'Mem test(bit)', 'nbr param', 'Taille(bit)'],\n",
       "      dtype='object')"
      ]
     },
     "execution_count": 283,
     "metadata": {},
     "output_type": "execute_result"
    }
   ],
   "source": [
    "bestRes[0].columns"
   ]
  },
  {
   "cell_type": "code",
   "execution_count": null,
   "id": "fOu4hi6iosoY",
   "metadata": {
    "id": "fOu4hi6iosoY"
   },
   "outputs": [],
   "source": [
    "nn_best_accuracy = dict()\n",
    "nn_nb_param = dict()\n",
    "nn_time = dict()\n",
    "for br in bestRes:\n",
    "  nn_best_accuracy[list(br['Nom'])[0]] = list(br['Accuracy'])[0]\n",
    "  nn_nb_param[list(br['Nom'])[0]] = list(br['nbr param'])[0]\n",
    "  nn_time[list(br['Nom'])[0]] = list(br['Tps test (ms)'])[0]"
   ]
  },
  {
   "cell_type": "code",
   "execution_count": null,
   "id": "P_PGRslYsro7",
   "metadata": {
    "colab": {
     "base_uri": "https://localhost:8080/",
     "height": 296
    },
    "id": "P_PGRslYsro7",
    "outputId": "ae8fc39a-d5f4-459f-9c75-29fade982bdc"
   },
   "outputs": [
    {
     "data": {
      "text/plain": [
       "<matplotlib.legend.Legend at 0x7f3e502bd190>"
      ]
     },
     "execution_count": 278,
     "metadata": {},
     "output_type": "execute_result"
    },
    {
     "data": {
      "image/png": "[encoded data removed]",
      "text/plain": [
       "<Figure size 432x288 with 1 Axes>"
      ]
     },
     "metadata": {
      "needs_background": "light"
     },
     "output_type": "display_data"
    }
   ],
   "source": [
    "legend = dict()\n",
    "legend_color = ['purple', 'red', 'green', 'blue', 'cyan']\n",
    "i = 0\n",
    "for reseau in reseaux:\n",
    "  legend[reseau] = plt.scatter(nn_nb_param[reseau], nn_best_accuracy[reseau], s = 130, c = legend_color[i], marker = 'o')\n",
    "  i+=1\n",
    "plt.xlabel(\"Nombre de parametre\")\n",
    "plt.ylabel(\"Accuracy\")\n",
    "plt.legend(legend.values(),\n",
    "           legend.keys())"
   ]
  },
  {
   "cell_type": "markdown",
   "id": "gblBNUla3Chm",
   "metadata": {
    "id": "gblBNUla3Chm"
   },
   "source": [
    "Le modèle DNN est celui qui a la meilleure accuracy mais c'est également celui qui utilise le plus de paramètres. De ce fait, on préfère choisir le modèle LSTM, qui est le deuxième modèle qui a le plus d'accuracy avec 885505 paramètres."
   ]
  },
  {
   "cell_type": "code",
   "execution_count": null,
   "id": "d8bvhZgsx4hA",
   "metadata": {
    "colab": {
     "base_uri": "https://localhost:8080/",
     "height": 296
    },
    "id": "d8bvhZgsx4hA",
    "outputId": "1efe3971-b441-4fdd-b9a1-46ea0c5bd016"
   },
   "outputs": [
    {
     "data": {
      "text/plain": [
       "<matplotlib.legend.Legend at 0x7f3e5136c3d0>"
      ]
     },
     "execution_count": 286,
     "metadata": {},
     "output_type": "execute_result"
    },
    {
     "data": {
      "image/png": "[encoded data removed]",
      "text/plain": [
       "<Figure size 432x288 with 1 Axes>"
      ]
     },
     "metadata": {
      "needs_background": "light"
     },
     "output_type": "display_data"
    }
   ],
   "source": [
    "legend = dict()\n",
    "legend_color = ['purple', 'red', 'green', 'blue', 'cyan']\n",
    "i = 0\n",
    "for reseau in reseaux:\n",
    "  legend[reseau] = plt.scatter(nn_time[reseau], nn_best_accuracy[reseau], s = 130, c = legend_color[i], marker = 'o')\n",
    "  i+=1\n",
    "plt.xlabel(\"Temps de test (ms)\")\n",
    "plt.ylabel(\"Accuracy\")\n",
    "plt.legend(legend.values(),\n",
    "           legend.keys())"
   ]
  },
  {
   "cell_type": "markdown",
   "id": "HqayYPI732UI",
   "metadata": {
    "id": "HqayYPI732UI"
   },
   "source": [
    "Le modèle DNN est celui qui a une meilleur accuracy et il prend également peu de temps pour prédire le dataset comparé à LSTM."
   ]
  },
  {
   "cell_type": "markdown",
   "id": "SSE17Zjk4V1p",
   "metadata": {
    "id": "SSE17Zjk4V1p"
   },
   "source": [
    "On conclut que le meilleurs modèle de réseau de neurone qu'on utiliser pour predir le dataset est DNN avec un dropout à 0.8 et valeur d'iterations egals a 20. Des informations détaillées sur les layers de ce modèle que je voudrais montrer ci-dessous."
   ]
  },
  {
   "cell_type": "code",
   "execution_count": null,
   "id": "9A2POIysCSBE",
   "metadata": {
    "id": "9A2POIysCSBE"
   },
   "outputs": [],
   "source": [
    "import tensorflow as tf\n",
    "from tensorflow import keras"
   ]
  },
  {
   "cell_type": "code",
   "execution_count": null,
   "id": "pbEQqb00BHqr",
   "metadata": {
    "colab": {
     "base_uri": "https://localhost:8080/"
    },
    "id": "pbEQqb00BHqr",
    "outputId": "59d8bb66-b5af-419e-d824-b57f5354535e"
   },
   "outputs": [
    {
     "name": "stdout",
     "output_type": "stream",
     "text": [
      "Model: \"model\"\n",
      "_________________________________________________________________\n",
      " Layer (type)                Output Shape              Param #   \n",
      "=================================================================\n",
      " input_1 (InputLayer)        [(None, 300)]             0         \n",
      "                                                                 \n",
      " dense (Dense)               (None, 1024)              308224    \n",
      "                                                                 \n",
      " dropout (Dropout)           (None, 1024)              0         \n",
      "                                                                 \n",
      " dense_1 (Dense)             (None, 1024)              1049600   \n",
      "                                                                 \n",
      " dense_2 (Dense)             (None, 512)               524800    \n",
      "                                                                 \n",
      " dense_3 (Dense)             (None, 1)                 513       \n",
      "                                                                 \n",
      "=================================================================\n",
      "Total params: 1,883,137\n",
      "Trainable params: 1,883,137\n",
      "Non-trainable params: 0\n",
      "_________________________________________________________________\n"
     ]
    }
   ],
   "source": [
    "model=tf.keras.models.load_model(\"/content/DNN\")\n",
    "model.summary()"
   ]
  }
 ],
 "metadata": {
  "colab": {
   "collapsed_sections": [
    "52185555",
    "4ce063cc",
    "16c8c64a",
    "cultural-wagner",
    "hqXmsaYRbb4y",
    "OBYlIaN2cD0s",
    "cOfvJlWCcQhl",
    "27cxcnQUci4x",
    "PO_Gm80IF-Jr",
    "oFJvKjHvcJv-",
    "REBpVelSczh-",
    "feb84392",
    "8fae3d6f",
    "b0bbb87e",
    "e2720f04",
    "f1b65846",
    "UuvNrY2XnUPh"
   ],
   "name": "Traitement.ipynb",
   "provenance": []
  },
  "kernelspec": {
   "display_name": "Python 3 (ipykernel)",
   "language": "python",
   "name": "python3"
  },
  "language_info": {
   "codemirror_mode": {
    "name": "ipython",
    "version": 3
   },
   "file_extension": ".py",
   "mimetype": "text/x-python",
   "name": "python",
   "nbconvert_exporter": "python",
   "pygments_lexer": "ipython3",
   "version": "3.8.11"
  }
 },
 "nbformat": 4,
 "nbformat_minor": 5
}
